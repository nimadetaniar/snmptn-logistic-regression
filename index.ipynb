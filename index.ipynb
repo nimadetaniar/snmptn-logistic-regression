{
  "nbformat": 4,
  "nbformat_minor": 0,
  "metadata": {
    "colab": {
      "name": "SKRIPSIIIIII.ipynb",
      "provenance": [],
      "collapsed_sections": [],
      "mount_file_id": "11-u1RAj5zEmC-Lx-FC3G8Pij4eRJo5_G",
      "authorship_tag": "ABX9TyOpEHiKzxwwuuv7sAgyU13U",
      "include_colab_link": true
    },
    "kernelspec": {
      "name": "python3",
      "display_name": "Python 3"
    },
    "language_info": {
      "name": "python"
    }
  },
  "cells": [
    {
      "cell_type": "markdown",
      "metadata": {
        "id": "view-in-github",
        "colab_type": "text"
      },
      "source": [
        "<a href=\"https://colab.research.google.com/github/nimadetaniar/snmptn-logistic-regression/blob/main/index.ipynb\" target=\"_parent\"><img src=\"https://colab.research.google.com/assets/colab-badge.svg\" alt=\"Open In Colab\"/></a>"
      ]
    },
    {
      "cell_type": "code",
      "metadata": {
        "id": "5Rle2asjGsgP"
      },
      "source": [
        "import pandas as pd\n",
        "import numpy as np\n",
        "from sklearn import preprocessing\n",
        "from sklearn.preprocessing import OrdinalEncoder\n",
        "import matplotlib.pyplot as plt \n",
        "plt.rc(\"font\", size=14)\n",
        "from sklearn.linear_model import LogisticRegression\n",
        "from sklearn.model_selection import train_test_split\n",
        "import seaborn as sns\n",
        "sns.set(style=\"white\")\n",
        "sns.set(style=\"whitegrid\", color_codes=True)"
      ],
      "execution_count": null,
      "outputs": []
    },
    {
      "cell_type": "code",
      "metadata": {
        "colab": {
          "base_uri": "https://localhost:8080/"
        },
        "id": "3umKzPlEkwT5",
        "outputId": "2a7b8ce1-a900-4f4d-df9f-340b7a36f4a3"
      },
      "source": [
        "pip install dominance-analysis"
      ],
      "execution_count": null,
      "outputs": [
        {
          "output_type": "stream",
          "text": [
            "Collecting dominance-analysis\n",
            "  Downloading https://files.pythonhosted.org/packages/f9/c0/ca7ad1c49b959bc973ce1d2dc8a68c543635f2bb2e3bddd0c913a439658f/dominance_analysis-1.1.7.tar.gz\n",
            "Requirement already satisfied: pandas in /usr/local/lib/python3.7/dist-packages (from dominance-analysis) (1.1.5)\n",
            "Collecting numpy>=1.20.x\n",
            "\u001b[?25l  Downloading https://files.pythonhosted.org/packages/3f/03/c3526fb4e79a793498829ca570f2f868204ad9a8040afcd72d82a8f121db/numpy-1.21.0-cp37-cp37m-manylinux_2_12_x86_64.manylinux2010_x86_64.whl (15.7MB)\n",
            "\u001b[K     |████████████████████████████████| 15.7MB 192kB/s \n",
            "\u001b[?25hRequirement already satisfied: seaborn in /usr/local/lib/python3.7/dist-packages (from dominance-analysis) (0.11.1)\n",
            "Requirement already satisfied: matplotlib in /usr/local/lib/python3.7/dist-packages (from dominance-analysis) (3.2.2)\n",
            "Requirement already satisfied: scikit-learn in /usr/local/lib/python3.7/dist-packages (from dominance-analysis) (0.22.2.post1)\n",
            "Requirement already satisfied: tqdm in /usr/local/lib/python3.7/dist-packages (from dominance-analysis) (4.41.1)\n",
            "Requirement already satisfied: plotly in /usr/local/lib/python3.7/dist-packages (from dominance-analysis) (4.4.1)\n",
            "Requirement already satisfied: cufflinks in /usr/local/lib/python3.7/dist-packages (from dominance-analysis) (0.17.3)\n",
            "Requirement already satisfied: statsmodels in /usr/local/lib/python3.7/dist-packages (from dominance-analysis) (0.10.2)\n",
            "Requirement already satisfied: ipywidgets in /usr/local/lib/python3.7/dist-packages (from dominance-analysis) (7.6.3)\n",
            "Requirement already satisfied: bokeh in /usr/local/lib/python3.7/dist-packages (from dominance-analysis) (2.3.3)\n",
            "Collecting scipy==1.5.0\n",
            "\u001b[?25l  Downloading https://files.pythonhosted.org/packages/6e/be/e95216d3bbac5d5c3a4bb0b44817b7808cea4c66e6b05cdff93d7a616fc4/scipy-1.5.0-cp37-cp37m-manylinux1_x86_64.whl (25.9MB)\n",
            "\u001b[K     |████████████████████████████████| 25.9MB 123kB/s \n",
            "\u001b[?25hRequirement already satisfied: pytz>=2017.2 in /usr/local/lib/python3.7/dist-packages (from pandas->dominance-analysis) (2018.9)\n",
            "Requirement already satisfied: python-dateutil>=2.7.3 in /usr/local/lib/python3.7/dist-packages (from pandas->dominance-analysis) (2.8.1)\n",
            "Requirement already satisfied: cycler>=0.10 in /usr/local/lib/python3.7/dist-packages (from matplotlib->dominance-analysis) (0.10.0)\n",
            "Requirement already satisfied: pyparsing!=2.0.4,!=2.1.2,!=2.1.6,>=2.0.1 in /usr/local/lib/python3.7/dist-packages (from matplotlib->dominance-analysis) (2.4.7)\n",
            "Requirement already satisfied: kiwisolver>=1.0.1 in /usr/local/lib/python3.7/dist-packages (from matplotlib->dominance-analysis) (1.3.1)\n",
            "Requirement already satisfied: joblib>=0.11 in /usr/local/lib/python3.7/dist-packages (from scikit-learn->dominance-analysis) (1.0.1)\n",
            "Requirement already satisfied: six in /usr/local/lib/python3.7/dist-packages (from plotly->dominance-analysis) (1.15.0)\n",
            "Requirement already satisfied: retrying>=1.3.3 in /usr/local/lib/python3.7/dist-packages (from plotly->dominance-analysis) (1.3.3)\n",
            "Requirement already satisfied: ipython>=5.3.0 in /usr/local/lib/python3.7/dist-packages (from cufflinks->dominance-analysis) (5.5.0)\n",
            "Requirement already satisfied: setuptools>=34.4.1 in /usr/local/lib/python3.7/dist-packages (from cufflinks->dominance-analysis) (57.0.0)\n",
            "Requirement already satisfied: colorlover>=0.2.1 in /usr/local/lib/python3.7/dist-packages (from cufflinks->dominance-analysis) (0.3.0)\n",
            "Requirement already satisfied: patsy>=0.4.0 in /usr/local/lib/python3.7/dist-packages (from statsmodels->dominance-analysis) (0.5.1)\n",
            "Requirement already satisfied: widgetsnbextension~=3.5.0 in /usr/local/lib/python3.7/dist-packages (from ipywidgets->dominance-analysis) (3.5.1)\n",
            "Requirement already satisfied: ipykernel>=4.5.1 in /usr/local/lib/python3.7/dist-packages (from ipywidgets->dominance-analysis) (4.10.1)\n",
            "Requirement already satisfied: traitlets>=4.3.1 in /usr/local/lib/python3.7/dist-packages (from ipywidgets->dominance-analysis) (5.0.5)\n",
            "Requirement already satisfied: nbformat>=4.2.0 in /usr/local/lib/python3.7/dist-packages (from ipywidgets->dominance-analysis) (5.1.3)\n",
            "Requirement already satisfied: jupyterlab-widgets>=1.0.0; python_version >= \"3.6\" in /usr/local/lib/python3.7/dist-packages (from ipywidgets->dominance-analysis) (1.0.0)\n",
            "Requirement already satisfied: Jinja2>=2.9 in /usr/local/lib/python3.7/dist-packages (from bokeh->dominance-analysis) (2.11.3)\n",
            "Requirement already satisfied: PyYAML>=3.10 in /usr/local/lib/python3.7/dist-packages (from bokeh->dominance-analysis) (3.13)\n",
            "Requirement already satisfied: tornado>=5.1 in /usr/local/lib/python3.7/dist-packages (from bokeh->dominance-analysis) (5.1.1)\n",
            "Requirement already satisfied: typing-extensions>=3.7.4 in /usr/local/lib/python3.7/dist-packages (from bokeh->dominance-analysis) (3.7.4.3)\n",
            "Requirement already satisfied: packaging>=16.8 in /usr/local/lib/python3.7/dist-packages (from bokeh->dominance-analysis) (21.0)\n",
            "Requirement already satisfied: pillow>=7.1.0 in /usr/local/lib/python3.7/dist-packages (from bokeh->dominance-analysis) (7.1.2)\n",
            "Requirement already satisfied: decorator in /usr/local/lib/python3.7/dist-packages (from ipython>=5.3.0->cufflinks->dominance-analysis) (4.4.2)\n",
            "Requirement already satisfied: pickleshare in /usr/local/lib/python3.7/dist-packages (from ipython>=5.3.0->cufflinks->dominance-analysis) (0.7.5)\n",
            "Requirement already satisfied: pygments in /usr/local/lib/python3.7/dist-packages (from ipython>=5.3.0->cufflinks->dominance-analysis) (2.6.1)\n",
            "Requirement already satisfied: simplegeneric>0.8 in /usr/local/lib/python3.7/dist-packages (from ipython>=5.3.0->cufflinks->dominance-analysis) (0.8.1)\n",
            "Requirement already satisfied: pexpect; sys_platform != \"win32\" in /usr/local/lib/python3.7/dist-packages (from ipython>=5.3.0->cufflinks->dominance-analysis) (4.8.0)\n",
            "Requirement already satisfied: prompt-toolkit<2.0.0,>=1.0.4 in /usr/local/lib/python3.7/dist-packages (from ipython>=5.3.0->cufflinks->dominance-analysis) (1.0.18)\n",
            "Requirement already satisfied: notebook>=4.4.1 in /usr/local/lib/python3.7/dist-packages (from widgetsnbextension~=3.5.0->ipywidgets->dominance-analysis) (5.3.1)\n",
            "Requirement already satisfied: jupyter-client in /usr/local/lib/python3.7/dist-packages (from ipykernel>=4.5.1->ipywidgets->dominance-analysis) (5.3.5)\n",
            "Requirement already satisfied: ipython-genutils in /usr/local/lib/python3.7/dist-packages (from traitlets>=4.3.1->ipywidgets->dominance-analysis) (0.2.0)\n",
            "Requirement already satisfied: jupyter-core in /usr/local/lib/python3.7/dist-packages (from nbformat>=4.2.0->ipywidgets->dominance-analysis) (4.7.1)\n",
            "Requirement already satisfied: jsonschema!=2.5.0,>=2.4 in /usr/local/lib/python3.7/dist-packages (from nbformat>=4.2.0->ipywidgets->dominance-analysis) (2.6.0)\n",
            "Requirement already satisfied: MarkupSafe>=0.23 in /usr/local/lib/python3.7/dist-packages (from Jinja2>=2.9->bokeh->dominance-analysis) (2.0.1)\n",
            "Requirement already satisfied: ptyprocess>=0.5 in /usr/local/lib/python3.7/dist-packages (from pexpect; sys_platform != \"win32\"->ipython>=5.3.0->cufflinks->dominance-analysis) (0.7.0)\n",
            "Requirement already satisfied: wcwidth in /usr/local/lib/python3.7/dist-packages (from prompt-toolkit<2.0.0,>=1.0.4->ipython>=5.3.0->cufflinks->dominance-analysis) (0.2.5)\n",
            "Requirement already satisfied: nbconvert in /usr/local/lib/python3.7/dist-packages (from notebook>=4.4.1->widgetsnbextension~=3.5.0->ipywidgets->dominance-analysis) (5.6.1)\n",
            "Requirement already satisfied: Send2Trash in /usr/local/lib/python3.7/dist-packages (from notebook>=4.4.1->widgetsnbextension~=3.5.0->ipywidgets->dominance-analysis) (1.7.1)\n",
            "Requirement already satisfied: terminado>=0.8.1 in /usr/local/lib/python3.7/dist-packages (from notebook>=4.4.1->widgetsnbextension~=3.5.0->ipywidgets->dominance-analysis) (0.10.1)\n",
            "Requirement already satisfied: pyzmq>=13 in /usr/local/lib/python3.7/dist-packages (from jupyter-client->ipykernel>=4.5.1->ipywidgets->dominance-analysis) (22.1.0)\n",
            "Requirement already satisfied: defusedxml in /usr/local/lib/python3.7/dist-packages (from nbconvert->notebook>=4.4.1->widgetsnbextension~=3.5.0->ipywidgets->dominance-analysis) (0.7.1)\n",
            "Requirement already satisfied: pandocfilters>=1.4.1 in /usr/local/lib/python3.7/dist-packages (from nbconvert->notebook>=4.4.1->widgetsnbextension~=3.5.0->ipywidgets->dominance-analysis) (1.4.3)\n",
            "Requirement already satisfied: entrypoints>=0.2.2 in /usr/local/lib/python3.7/dist-packages (from nbconvert->notebook>=4.4.1->widgetsnbextension~=3.5.0->ipywidgets->dominance-analysis) (0.3)\n",
            "Requirement already satisfied: testpath in /usr/local/lib/python3.7/dist-packages (from nbconvert->notebook>=4.4.1->widgetsnbextension~=3.5.0->ipywidgets->dominance-analysis) (0.5.0)\n",
            "Requirement already satisfied: bleach in /usr/local/lib/python3.7/dist-packages (from nbconvert->notebook>=4.4.1->widgetsnbextension~=3.5.0->ipywidgets->dominance-analysis) (3.3.0)\n",
            "Requirement already satisfied: mistune<2,>=0.8.1 in /usr/local/lib/python3.7/dist-packages (from nbconvert->notebook>=4.4.1->widgetsnbextension~=3.5.0->ipywidgets->dominance-analysis) (0.8.4)\n",
            "Requirement already satisfied: webencodings in /usr/local/lib/python3.7/dist-packages (from bleach->nbconvert->notebook>=4.4.1->widgetsnbextension~=3.5.0->ipywidgets->dominance-analysis) (0.5.1)\n",
            "Building wheels for collected packages: dominance-analysis\n",
            "  Building wheel for dominance-analysis (setup.py) ... \u001b[?25l\u001b[?25hdone\n",
            "  Created wheel for dominance-analysis: filename=dominance_analysis-1.1.7-cp37-none-any.whl size=12846 sha256=76453d4f3b79453c6b6c4d40ddae542cefe586d60aeddb215f2ffbe4da64a6fb\n",
            "  Stored in directory: /root/.cache/pip/wheels/69/f0/1d/4ac3045a05282a123eae2fc5243dc37baf6cefd2010118b971\n",
            "Successfully built dominance-analysis\n",
            "\u001b[31mERROR: tensorflow 2.5.0 has requirement numpy~=1.19.2, but you'll have numpy 1.21.0 which is incompatible.\u001b[0m\n",
            "\u001b[31mERROR: datascience 0.10.6 has requirement folium==0.2.1, but you'll have folium 0.8.3 which is incompatible.\u001b[0m\n",
            "\u001b[31mERROR: albumentations 0.1.12 has requirement imgaug<0.2.7,>=0.2.5, but you'll have imgaug 0.2.9 which is incompatible.\u001b[0m\n",
            "Installing collected packages: numpy, scipy, dominance-analysis\n",
            "  Found existing installation: numpy 1.19.5\n",
            "    Uninstalling numpy-1.19.5:\n",
            "      Successfully uninstalled numpy-1.19.5\n",
            "  Found existing installation: scipy 1.4.1\n",
            "    Uninstalling scipy-1.4.1:\n",
            "      Successfully uninstalled scipy-1.4.1\n",
            "Successfully installed dominance-analysis-1.1.7 numpy-1.21.0 scipy-1.5.0\n"
          ],
          "name": "stdout"
        },
        {
          "output_type": "display_data",
          "data": {
            "application/vnd.colab-display-data+json": {
              "pip_warning": {
                "packages": [
                  "numpy",
                  "scipy"
                ]
              }
            }
          },
          "metadata": {
            "tags": []
          }
        }
      ]
    },
    {
      "cell_type": "code",
      "metadata": {
        "colab": {
          "base_uri": "https://localhost:8080/",
          "height": 87
        },
        "id": "SfZzHA3dlv3z",
        "outputId": "70157135-d33d-41ff-9954-9d7c25a33de1"
      },
      "source": [
        "from dominance_analysis import Dominance"
      ],
      "execution_count": null,
      "outputs": [
        {
          "output_type": "stream",
          "text": [
            "/usr/local/lib/python3.7/dist-packages/statsmodels/tools/_testing.py:19: FutureWarning:\n",
            "\n",
            "pandas.util.testing is deprecated. Use the functions in the public API at pandas.testing instead.\n",
            "\n"
          ],
          "name": "stderr"
        },
        {
          "output_type": "display_data",
          "data": {
            "text/html": [
              "        <script type=\"text/javascript\">\n",
              "        window.PlotlyConfig = {MathJaxConfig: 'local'};\n",
              "        if (window.MathJax) {MathJax.Hub.Config({SVG: {font: \"STIX-Web\"}});}\n",
              "        if (typeof require !== 'undefined') {\n",
              "        require.undef(\"plotly\");\n",
              "        requirejs.config({\n",
              "            paths: {\n",
              "                'plotly': ['https://cdn.plot.ly/plotly-latest.min']\n",
              "            }\n",
              "        });\n",
              "        require(['plotly'], function(Plotly) {\n",
              "            window._Plotly = Plotly;\n",
              "        });\n",
              "        }\n",
              "        </script>\n",
              "        "
            ]
          },
          "metadata": {
            "tags": []
          }
        }
      ]
    },
    {
      "cell_type": "code",
      "metadata": {
        "id": "LKnw4MrpHPmk"
      },
      "source": [
        "1 #memasukkan data snmptn\n",
        "data_snmptn = pd.read_excel('/content/drive/MyDrive/[Bimbingan Tesis]-NI MADE TARANITA ARIANI/Dokumen/SELURUH-UJICOBA.xlsx')\n",
        "data_snmptn.head()\n",
        "\n",
        "1 #memilih fitur\n",
        "selected_snmptn = data_snmptn[[\"STATUS SNMPTN\",\"NILAI RATA-RATA RAPOR\",\"NILAI RATA-RATA MAPEL UN\",\"PRESTASI\"]]\n",
        "selected_for_db = selected_snmptn"
      ],
      "execution_count": null,
      "outputs": []
    },
    {
      "cell_type": "code",
      "metadata": {
        "id": "NTa_s7aMWism",
        "colab": {
          "base_uri": "https://localhost:8080/",
          "height": 662
        },
        "outputId": "58d493cd-7ba2-4eaf-ad59-2418a0c5048c"
      },
      "source": [
        "1 #mengubah fitur kategorikal menjadi 0 dan 1\n",
        "selected_snmptn['STATUS SNMPTN'] = selected_snmptn['STATUS SNMPTN'].map({'DITERIMA': 1, 'TIDAK DITERIMA': 0})\n",
        "\n",
        "selected_snmptn.head(20)"
      ],
      "execution_count": null,
      "outputs": [
        {
          "output_type": "execute_result",
          "data": {
            "text/html": [
              "<div>\n",
              "<style scoped>\n",
              "    .dataframe tbody tr th:only-of-type {\n",
              "        vertical-align: middle;\n",
              "    }\n",
              "\n",
              "    .dataframe tbody tr th {\n",
              "        vertical-align: top;\n",
              "    }\n",
              "\n",
              "    .dataframe thead th {\n",
              "        text-align: right;\n",
              "    }\n",
              "</style>\n",
              "<table border=\"1\" class=\"dataframe\">\n",
              "  <thead>\n",
              "    <tr style=\"text-align: right;\">\n",
              "      <th></th>\n",
              "      <th>STATUS SNMPTN</th>\n",
              "      <th>NILAI RATA-RATA RAPOR</th>\n",
              "      <th>NILAI RATA-RATA MAPEL UN</th>\n",
              "      <th>PRESTASI</th>\n",
              "    </tr>\n",
              "  </thead>\n",
              "  <tbody>\n",
              "    <tr>\n",
              "      <th>0</th>\n",
              "      <td>1</td>\n",
              "      <td>87.28</td>\n",
              "      <td>85.23</td>\n",
              "      <td>0.0</td>\n",
              "    </tr>\n",
              "    <tr>\n",
              "      <th>1</th>\n",
              "      <td>1</td>\n",
              "      <td>86.33</td>\n",
              "      <td>85.10</td>\n",
              "      <td>0.0</td>\n",
              "    </tr>\n",
              "    <tr>\n",
              "      <th>2</th>\n",
              "      <td>1</td>\n",
              "      <td>87.88</td>\n",
              "      <td>86.55</td>\n",
              "      <td>0.0</td>\n",
              "    </tr>\n",
              "    <tr>\n",
              "      <th>3</th>\n",
              "      <td>1</td>\n",
              "      <td>85.31</td>\n",
              "      <td>83.37</td>\n",
              "      <td>0.0</td>\n",
              "    </tr>\n",
              "    <tr>\n",
              "      <th>4</th>\n",
              "      <td>1</td>\n",
              "      <td>83.34</td>\n",
              "      <td>81.78</td>\n",
              "      <td>0.0</td>\n",
              "    </tr>\n",
              "    <tr>\n",
              "      <th>5</th>\n",
              "      <td>1</td>\n",
              "      <td>82.19</td>\n",
              "      <td>79.83</td>\n",
              "      <td>0.0</td>\n",
              "    </tr>\n",
              "    <tr>\n",
              "      <th>6</th>\n",
              "      <td>1</td>\n",
              "      <td>85.61</td>\n",
              "      <td>81.72</td>\n",
              "      <td>0.0</td>\n",
              "    </tr>\n",
              "    <tr>\n",
              "      <th>7</th>\n",
              "      <td>1</td>\n",
              "      <td>86.46</td>\n",
              "      <td>84.93</td>\n",
              "      <td>0.0</td>\n",
              "    </tr>\n",
              "    <tr>\n",
              "      <th>8</th>\n",
              "      <td>1</td>\n",
              "      <td>86.85</td>\n",
              "      <td>85.03</td>\n",
              "      <td>0.0</td>\n",
              "    </tr>\n",
              "    <tr>\n",
              "      <th>9</th>\n",
              "      <td>1</td>\n",
              "      <td>85.59</td>\n",
              "      <td>82.25</td>\n",
              "      <td>0.0</td>\n",
              "    </tr>\n",
              "    <tr>\n",
              "      <th>10</th>\n",
              "      <td>0</td>\n",
              "      <td>85.22</td>\n",
              "      <td>83.97</td>\n",
              "      <td>0.0</td>\n",
              "    </tr>\n",
              "    <tr>\n",
              "      <th>11</th>\n",
              "      <td>0</td>\n",
              "      <td>83.90</td>\n",
              "      <td>80.58</td>\n",
              "      <td>1.5</td>\n",
              "    </tr>\n",
              "    <tr>\n",
              "      <th>12</th>\n",
              "      <td>0</td>\n",
              "      <td>86.08</td>\n",
              "      <td>85.00</td>\n",
              "      <td>0.0</td>\n",
              "    </tr>\n",
              "    <tr>\n",
              "      <th>13</th>\n",
              "      <td>0</td>\n",
              "      <td>87.33</td>\n",
              "      <td>85.20</td>\n",
              "      <td>0.0</td>\n",
              "    </tr>\n",
              "    <tr>\n",
              "      <th>14</th>\n",
              "      <td>0</td>\n",
              "      <td>87.65</td>\n",
              "      <td>85.70</td>\n",
              "      <td>0.0</td>\n",
              "    </tr>\n",
              "    <tr>\n",
              "      <th>15</th>\n",
              "      <td>0</td>\n",
              "      <td>82.74</td>\n",
              "      <td>80.80</td>\n",
              "      <td>0.0</td>\n",
              "    </tr>\n",
              "    <tr>\n",
              "      <th>16</th>\n",
              "      <td>0</td>\n",
              "      <td>83.29</td>\n",
              "      <td>80.90</td>\n",
              "      <td>0.0</td>\n",
              "    </tr>\n",
              "    <tr>\n",
              "      <th>17</th>\n",
              "      <td>0</td>\n",
              "      <td>83.11</td>\n",
              "      <td>80.60</td>\n",
              "      <td>0.0</td>\n",
              "    </tr>\n",
              "    <tr>\n",
              "      <th>18</th>\n",
              "      <td>0</td>\n",
              "      <td>87.22</td>\n",
              "      <td>87.10</td>\n",
              "      <td>0.0</td>\n",
              "    </tr>\n",
              "    <tr>\n",
              "      <th>19</th>\n",
              "      <td>0</td>\n",
              "      <td>82.11</td>\n",
              "      <td>80.13</td>\n",
              "      <td>0.0</td>\n",
              "    </tr>\n",
              "  </tbody>\n",
              "</table>\n",
              "</div>"
            ],
            "text/plain": [
              "    STATUS SNMPTN  NILAI RATA-RATA RAPOR  NILAI RATA-RATA MAPEL UN  PRESTASI\n",
              "0               1                  87.28                     85.23       0.0\n",
              "1               1                  86.33                     85.10       0.0\n",
              "2               1                  87.88                     86.55       0.0\n",
              "3               1                  85.31                     83.37       0.0\n",
              "4               1                  83.34                     81.78       0.0\n",
              "5               1                  82.19                     79.83       0.0\n",
              "6               1                  85.61                     81.72       0.0\n",
              "7               1                  86.46                     84.93       0.0\n",
              "8               1                  86.85                     85.03       0.0\n",
              "9               1                  85.59                     82.25       0.0\n",
              "10              0                  85.22                     83.97       0.0\n",
              "11              0                  83.90                     80.58       1.5\n",
              "12              0                  86.08                     85.00       0.0\n",
              "13              0                  87.33                     85.20       0.0\n",
              "14              0                  87.65                     85.70       0.0\n",
              "15              0                  82.74                     80.80       0.0\n",
              "16              0                  83.29                     80.90       0.0\n",
              "17              0                  83.11                     80.60       0.0\n",
              "18              0                  87.22                     87.10       0.0\n",
              "19              0                  82.11                     80.13       0.0"
            ]
          },
          "metadata": {
            "tags": []
          },
          "execution_count": 8
        }
      ]
    },
    {
      "cell_type": "code",
      "metadata": {
        "id": "_kSafrODh5go"
      },
      "source": [
        ""
      ],
      "execution_count": null,
      "outputs": []
    },
    {
      "cell_type": "code",
      "metadata": {
        "id": "9_9tpQA9jPsy",
        "colab": {
          "base_uri": "https://localhost:8080/"
        },
        "outputId": "11cda2f8-6ec6-4843-c304-5973eccddd79"
      },
      "source": [
        "Y = selected_snmptn.iloc[:,0].values\n",
        "print(Y)\n"
      ],
      "execution_count": null,
      "outputs": [
        {
          "output_type": "stream",
          "text": [
            "[1 1 1 1 1 1 1 1 1 1 0 0 0 0 0 0 0 0 0 0 0 0 0 0 0 0 0 0 0 0 0 0 0 0 0 0 0\n",
            " 0 0 0 0 0 0 0 0 0 0 0 0 0 0 0 0 0 0 0 0 0 0 0 0 0 0 0 0 0 0 0 0 0 0 0 0 0\n",
            " 0 0 0 0 0 0 0 0 0 0 0 0 0 0 0 0 0 0 0 0 0 0 0 0 0 0 0 0 0 0 0 0 0 0 0 0 0\n",
            " 0 0 0 0 0 0 0 0 0 0 0 0 0 0 0 0 0 0 0 0 0 0 0 0 0 0 0 0 0 0 0 0 0 0 0 0 0\n",
            " 0 0 0 0 0 0 0 0 0 0 0 0 0 0 0 0 0 0 0 0 0 0 0 0 0 0 0 0 0 0 0 0 1 1 1 1 1\n",
            " 0 0 0 0 0 0 0 0 0 0 0 0 0 0 0 0 0 0 0 0 0 0 0 0 0 0 0 0 0 0 0 0 0 0 0 0 0\n",
            " 0 0 0 0 0 0 0 0 0 0 0 0 0 0 0 0 0 0 0 0 0 0 0 0 0 0 0 0 0 0 0 0 0 0 0 0 0\n",
            " 0 0 0 0 0 0 0 0 0 0 0 0 0 0 0 0 0 0 0 0 0 0 0 0 0 0 0 0 0 0 0 0 0 0 0 0 0\n",
            " 0 0 0 0 0 0 0 0 0 0 0 0 0 0 0 0 0 0 0 0 0 0 0 0 0 0 0 0 0 0 0 0 0 0 0 0 0\n",
            " 0 0 0 0 0 0 0 0 0 0 0 0 0 0 0 0 0 0 0 0 0 0 0 0 0 0 0 1 1 0 0 0 0 0 0 0 0\n",
            " 0 0 0 0 0 0 0 0 0 0 0 0 0 0 0 0 0 0 0 0 0 0 0 0 0 0 0 0 0 0 0 0 0 0 0 0 0\n",
            " 0 0 0 0 0 0 0 0 0 0 0 0 0 0 0 0 0 0 0 0 0 0 0 0 0 0 0 0 0 0 0 0 0 0 0 0 0\n",
            " 0 0 0 0 0 0 0 0 0 0 0 0 0 0 0 0 0 0 0 0 0 0 0 0 0 0 0 0 0 0 0 0 0 0 0 0 0\n",
            " 0 0 0 0 0 0 0 0 0 0 0 0 0 0 0 0 1 1 1 1 1 1 1 1 1 1 0 0 0 0 0 0 0 0 0 0 0\n",
            " 0 0 0 0 0 0 0 0 0 0 0 0 0 0 0 0 0 0 0 0 0 0 0 0 0 0 0 0 0 0 0 0 0 0 0 0 0\n",
            " 0 0 0 0 0 0 0 0 0 0 0 0 0 0 0 0 0 0 0 0 0 0 0 0 0 0 0 0 0 0 0 0 0 0 0 0 0\n",
            " 0 0 0 0 0 0 0 0 0 0 0 0 0 0 0 0 0 0 0 0 0 0 0 0 0 0 0 0 0 0 0 0 0 0 0 0 0\n",
            " 0 0 0 0 0 0 0 0 0 0 0 0]\n"
          ],
          "name": "stdout"
        }
      ]
    },
    {
      "cell_type": "code",
      "metadata": {
        "colab": {
          "base_uri": "https://localhost:8080/",
          "height": 378
        },
        "id": "0XccO0n4jVtB",
        "outputId": "60ed03e6-f77a-47c6-c5a4-8524c8027097"
      },
      "source": [
        "1 # menghitung perbandingan siswa yang tidak diterima dan diterima snmptn\n",
        "count_TIDAK_DITERIMA = len(selected_snmptn[selected_snmptn['STATUS SNMPTN']==0])\n",
        "count_DITERIMA = len(selected_snmptn[selected_snmptn['STATUS SNMPTN']==1])\n",
        "pct_of_TIDAK_DTIERIMA = round((count_TIDAK_DITERIMA/(count_TIDAK_DITERIMA + count_DITERIMA)*100),2)\n",
        "print(\"percentage of TIDAK DITERIMA : \", pct_of_TIDAK_DTIERIMA*100)\n",
        "pct_of_DITERIMA = round((count_DITERIMA/(count_TIDAK_DITERIMA + count_DITERIMA)*100),2)\n",
        "print(\"percentage of DITERIMA\", pct_of_DITERIMA*100)\n",
        "\n",
        "fig = plt.figure()\n",
        "ax = fig.add_axes([0,0,1,1])\n",
        "langs = ['tidak diterima', 'diterima']\n",
        "val = [pct_of_TIDAK_DTIERIMA, pct_of_DITERIMA]\n",
        "ax.bar(langs,val)\n",
        "for index,data in enumerate(val):\n",
        "    plt.text(x=index , y =data+1 , s=f\"{data}\" , fontdict=dict(fontsize=20))\n",
        "plt.show()"
      ],
      "execution_count": null,
      "outputs": [
        {
          "output_type": "stream",
          "text": [
            "percentage of TIDAK DITERIMA :  9579.0\n",
            "percentage of DITERIMA 421.0\n"
          ],
          "name": "stdout"
        },
        {
          "output_type": "display_data",
          "data": {
            "image/png": "[encoded data removed]",
            "text/plain": [
              "<Figure size 432x288 with 1 Axes>"
            ]
          },
          "metadata": {
            "tags": []
          }
        }
      ]
    },
    {
      "cell_type": "code",
      "metadata": {
        "colab": {
          "base_uri": "https://localhost:8080/"
        },
        "id": "aSwtq2L1a8-c",
        "outputId": "e8d70ed2-c71d-439d-ca18-78803ea26666"
      },
      "source": [
        "# Importing the splitter, classification model, and the metric\n",
        "from sklearn.linear_model import LogisticRegression\n",
        "from sklearn.model_selection import train_test_split\n",
        "\n",
        "from sklearn.metrics import classification_report\n",
        "from sklearn.metrics import confusion_matrix\n",
        "\n",
        "from sklearn.metrics import roc_auc_score\n",
        "from sklearn.metrics import roc_curve\n",
        "\n",
        "#import library smote\n",
        "from imblearn.over_sampling import SMOTE\n",
        "#import library \n",
        "import statsmodels.api as sm\n",
        "\n",
        "\n"
      ],
      "execution_count": null,
      "outputs": [
        {
          "output_type": "stream",
          "text": [
            "/usr/local/lib/python3.7/dist-packages/sklearn/externals/six.py:31: FutureWarning:\n",
            "\n",
            "The module is deprecated in version 0.21 and will be removed in version 0.23 since we've dropped support for Python 2.7. Please rely on the official version of six (https://pypi.org/project/six/).\n",
            "\n",
            "/usr/local/lib/python3.7/dist-packages/sklearn/utils/deprecation.py:144: FutureWarning:\n",
            "\n",
            "The sklearn.neighbors.base module is  deprecated in version 0.22 and will be removed in version 0.24. The corresponding classes / functions should instead be imported from sklearn.neighbors. Anything that cannot be imported from sklearn.neighbors is now part of the private API.\n",
            "\n"
          ],
          "name": "stderr"
        }
      ]
    },
    {
      "cell_type": "code",
      "metadata": {
        "id": "hoqrAbktbI6v"
      },
      "source": [
        "#Create an oversampled training data\n",
        "smote = SMOTE(random_state = 101)"
      ],
      "execution_count": null,
      "outputs": []
    },
    {
      "cell_type": "code",
      "metadata": {
        "id": "6PgWCbhRwlrj"
      },
      "source": [
        "# 2 | MODEL DENGAN 3 FITUR\n",
        "\n",
        "#Splitting the data with stratification\n",
        "X_trainALL, X_testALL, y_trainALL, y_testALL = train_test_split(selected_snmptn[[\"NILAI RATA-RATA RAPOR\",\"NILAI RATA-RATA MAPEL UN\",\"PRESTASI\"]], \n",
        "                                                    selected_snmptn['STATUS SNMPTN'], test_size = 0.2, stratify = selected_snmptn['STATUS SNMPTN'], random_state = 101)"
      ],
      "execution_count": null,
      "outputs": []
    },
    {
      "cell_type": "code",
      "metadata": {
        "colab": {
          "base_uri": "https://localhost:8080/",
          "height": 464
        },
        "id": "X2tqxs6P2FEh",
        "outputId": "b23f1a40-0005-4f98-a8c9-bb59b8046852"
      },
      "source": [
        "# 2 | MODEL DENGAN 3 FITUR\n",
        "XALL_oversample, yALL_oversample = smote.fit_resample(X_trainALL, y_trainALL)\n",
        "dfALL_oversampler = pd.concat([pd.DataFrame(XALL_oversample, columns = [\"NILAI RATA-RATA RAPOR\",\"NILAI RATA-RATA MAPEL UN\",\"PRESTASI\"]), pd.DataFrame(yALL_oversample, columns=['STATUS SNMPTN'])], axis=1)\n",
        "\n",
        "sns.countplot(dfALL_oversampler['STATUS SNMPTN'])\n",
        "jumlahALL = dfALL_oversampler['STATUS SNMPTN'].count()\n",
        "print(jumlahALL/2)"
      ],
      "execution_count": null,
      "outputs": [
        {
          "output_type": "stream",
          "text": [
            "490.0\n"
          ],
          "name": "stdout"
        },
        {
          "output_type": "stream",
          "text": [
            "/usr/local/lib/python3.7/dist-packages/sklearn/utils/deprecation.py:87: FutureWarning:\n",
            "\n",
            "Function safe_indexing is deprecated; safe_indexing is deprecated in version 0.22 and will be removed in version 0.24.\n",
            "\n",
            "/usr/local/lib/python3.7/dist-packages/seaborn/_decorators.py:43: FutureWarning:\n",
            "\n",
            "Pass the following variable as a keyword arg: x. From version 0.12, the only valid positional argument will be `data`, and passing other arguments without an explicit keyword will result in an error or misinterpretation.\n",
            "\n"
          ],
          "name": "stderr"
        },
        {
          "output_type": "display_data",
          "data": {
            "image/png": "[encoded data removed]",
            "text/plain": [
              "<Figure size 432x288 with 1 Axes>"
            ]
          },
          "metadata": {
            "tags": []
          }
        }
      ]
    },
    {
      "cell_type": "code",
      "metadata": {
        "colab": {
          "base_uri": "https://localhost:8080/",
          "height": 316
        },
        "id": "3p8VXAYsmvDM",
        "outputId": "fc5ea93b-f390-4a25-c181-008dc38d7e9f"
      },
      "source": [
        "dfALL_oversampler = dfALL_oversampler.drop(['intercept'], axis = 1)\n"
      ],
      "execution_count": null,
      "outputs": [
        {
          "output_type": "error",
          "ename": "KeyError",
          "evalue": "ignored",
          "traceback": [
            "\u001b[0;31m---------------------------------------------------------------------------\u001b[0m",
            "\u001b[0;31mKeyError\u001b[0m                                  Traceback (most recent call last)",
            "\u001b[0;32m<ipython-input-12-00c02eec6012>\u001b[0m in \u001b[0;36m<module>\u001b[0;34m()\u001b[0m\n\u001b[0;32m----> 1\u001b[0;31m \u001b[0mdfALL_oversampler\u001b[0m \u001b[0;34m=\u001b[0m \u001b[0mdfALL_oversampler\u001b[0m\u001b[0;34m.\u001b[0m\u001b[0mdrop\u001b[0m\u001b[0;34m(\u001b[0m\u001b[0;34m[\u001b[0m\u001b[0;34m'intercept'\u001b[0m\u001b[0;34m]\u001b[0m\u001b[0;34m,\u001b[0m \u001b[0maxis\u001b[0m \u001b[0;34m=\u001b[0m \u001b[0;36m1\u001b[0m\u001b[0;34m)\u001b[0m\u001b[0;34m\u001b[0m\u001b[0;34m\u001b[0m\u001b[0m\n\u001b[0m",
            "\u001b[0;32m/usr/local/lib/python3.7/dist-packages/pandas/core/frame.py\u001b[0m in \u001b[0;36mdrop\u001b[0;34m(self, labels, axis, index, columns, level, inplace, errors)\u001b[0m\n\u001b[1;32m   4172\u001b[0m             \u001b[0mlevel\u001b[0m\u001b[0;34m=\u001b[0m\u001b[0mlevel\u001b[0m\u001b[0;34m,\u001b[0m\u001b[0;34m\u001b[0m\u001b[0;34m\u001b[0m\u001b[0m\n\u001b[1;32m   4173\u001b[0m             \u001b[0minplace\u001b[0m\u001b[0;34m=\u001b[0m\u001b[0minplace\u001b[0m\u001b[0;34m,\u001b[0m\u001b[0;34m\u001b[0m\u001b[0;34m\u001b[0m\u001b[0m\n\u001b[0;32m-> 4174\u001b[0;31m             \u001b[0merrors\u001b[0m\u001b[0;34m=\u001b[0m\u001b[0merrors\u001b[0m\u001b[0;34m,\u001b[0m\u001b[0;34m\u001b[0m\u001b[0;34m\u001b[0m\u001b[0m\n\u001b[0m\u001b[1;32m   4175\u001b[0m         )\n\u001b[1;32m   4176\u001b[0m \u001b[0;34m\u001b[0m\u001b[0m\n",
            "\u001b[0;32m/usr/local/lib/python3.7/dist-packages/pandas/core/generic.py\u001b[0m in \u001b[0;36mdrop\u001b[0;34m(self, labels, axis, index, columns, level, inplace, errors)\u001b[0m\n\u001b[1;32m   3887\u001b[0m         \u001b[0;32mfor\u001b[0m \u001b[0maxis\u001b[0m\u001b[0;34m,\u001b[0m \u001b[0mlabels\u001b[0m \u001b[0;32min\u001b[0m \u001b[0maxes\u001b[0m\u001b[0;34m.\u001b[0m\u001b[0mitems\u001b[0m\u001b[0;34m(\u001b[0m\u001b[0;34m)\u001b[0m\u001b[0;34m:\u001b[0m\u001b[0;34m\u001b[0m\u001b[0;34m\u001b[0m\u001b[0m\n\u001b[1;32m   3888\u001b[0m             \u001b[0;32mif\u001b[0m \u001b[0mlabels\u001b[0m \u001b[0;32mis\u001b[0m \u001b[0;32mnot\u001b[0m \u001b[0;32mNone\u001b[0m\u001b[0;34m:\u001b[0m\u001b[0;34m\u001b[0m\u001b[0;34m\u001b[0m\u001b[0m\n\u001b[0;32m-> 3889\u001b[0;31m                 \u001b[0mobj\u001b[0m \u001b[0;34m=\u001b[0m \u001b[0mobj\u001b[0m\u001b[0;34m.\u001b[0m\u001b[0m_drop_axis\u001b[0m\u001b[0;34m(\u001b[0m\u001b[0mlabels\u001b[0m\u001b[0;34m,\u001b[0m \u001b[0maxis\u001b[0m\u001b[0;34m,\u001b[0m \u001b[0mlevel\u001b[0m\u001b[0;34m=\u001b[0m\u001b[0mlevel\u001b[0m\u001b[0;34m,\u001b[0m \u001b[0merrors\u001b[0m\u001b[0;34m=\u001b[0m\u001b[0merrors\u001b[0m\u001b[0;34m)\u001b[0m\u001b[0;34m\u001b[0m\u001b[0;34m\u001b[0m\u001b[0m\n\u001b[0m\u001b[1;32m   3890\u001b[0m \u001b[0;34m\u001b[0m\u001b[0m\n\u001b[1;32m   3891\u001b[0m         \u001b[0;32mif\u001b[0m \u001b[0minplace\u001b[0m\u001b[0;34m:\u001b[0m\u001b[0;34m\u001b[0m\u001b[0;34m\u001b[0m\u001b[0m\n",
            "\u001b[0;32m/usr/local/lib/python3.7/dist-packages/pandas/core/generic.py\u001b[0m in \u001b[0;36m_drop_axis\u001b[0;34m(self, labels, axis, level, errors)\u001b[0m\n\u001b[1;32m   3921\u001b[0m                 \u001b[0mnew_axis\u001b[0m \u001b[0;34m=\u001b[0m \u001b[0maxis\u001b[0m\u001b[0;34m.\u001b[0m\u001b[0mdrop\u001b[0m\u001b[0;34m(\u001b[0m\u001b[0mlabels\u001b[0m\u001b[0;34m,\u001b[0m \u001b[0mlevel\u001b[0m\u001b[0;34m=\u001b[0m\u001b[0mlevel\u001b[0m\u001b[0;34m,\u001b[0m \u001b[0merrors\u001b[0m\u001b[0;34m=\u001b[0m\u001b[0merrors\u001b[0m\u001b[0;34m)\u001b[0m\u001b[0;34m\u001b[0m\u001b[0;34m\u001b[0m\u001b[0m\n\u001b[1;32m   3922\u001b[0m             \u001b[0;32melse\u001b[0m\u001b[0;34m:\u001b[0m\u001b[0;34m\u001b[0m\u001b[0;34m\u001b[0m\u001b[0m\n\u001b[0;32m-> 3923\u001b[0;31m                 \u001b[0mnew_axis\u001b[0m \u001b[0;34m=\u001b[0m \u001b[0maxis\u001b[0m\u001b[0;34m.\u001b[0m\u001b[0mdrop\u001b[0m\u001b[0;34m(\u001b[0m\u001b[0mlabels\u001b[0m\u001b[0;34m,\u001b[0m \u001b[0merrors\u001b[0m\u001b[0;34m=\u001b[0m\u001b[0merrors\u001b[0m\u001b[0;34m)\u001b[0m\u001b[0;34m\u001b[0m\u001b[0;34m\u001b[0m\u001b[0m\n\u001b[0m\u001b[1;32m   3924\u001b[0m             \u001b[0mresult\u001b[0m \u001b[0;34m=\u001b[0m \u001b[0mself\u001b[0m\u001b[0;34m.\u001b[0m\u001b[0mreindex\u001b[0m\u001b[0;34m(\u001b[0m\u001b[0;34m**\u001b[0m\u001b[0;34m{\u001b[0m\u001b[0maxis_name\u001b[0m\u001b[0;34m:\u001b[0m \u001b[0mnew_axis\u001b[0m\u001b[0;34m}\u001b[0m\u001b[0;34m)\u001b[0m\u001b[0;34m\u001b[0m\u001b[0;34m\u001b[0m\u001b[0m\n\u001b[1;32m   3925\u001b[0m \u001b[0;34m\u001b[0m\u001b[0m\n",
            "\u001b[0;32m/usr/local/lib/python3.7/dist-packages/pandas/core/indexes/base.py\u001b[0m in \u001b[0;36mdrop\u001b[0;34m(self, labels, errors)\u001b[0m\n\u001b[1;32m   5285\u001b[0m         \u001b[0;32mif\u001b[0m \u001b[0mmask\u001b[0m\u001b[0;34m.\u001b[0m\u001b[0many\u001b[0m\u001b[0;34m(\u001b[0m\u001b[0;34m)\u001b[0m\u001b[0;34m:\u001b[0m\u001b[0;34m\u001b[0m\u001b[0;34m\u001b[0m\u001b[0m\n\u001b[1;32m   5286\u001b[0m             \u001b[0;32mif\u001b[0m \u001b[0merrors\u001b[0m \u001b[0;34m!=\u001b[0m \u001b[0;34m\"ignore\"\u001b[0m\u001b[0;34m:\u001b[0m\u001b[0;34m\u001b[0m\u001b[0;34m\u001b[0m\u001b[0m\n\u001b[0;32m-> 5287\u001b[0;31m                 \u001b[0;32mraise\u001b[0m \u001b[0mKeyError\u001b[0m\u001b[0;34m(\u001b[0m\u001b[0;34mf\"{labels[mask]} not found in axis\"\u001b[0m\u001b[0;34m)\u001b[0m\u001b[0;34m\u001b[0m\u001b[0;34m\u001b[0m\u001b[0m\n\u001b[0m\u001b[1;32m   5288\u001b[0m             \u001b[0mindexer\u001b[0m \u001b[0;34m=\u001b[0m \u001b[0mindexer\u001b[0m\u001b[0;34m[\u001b[0m\u001b[0;34m~\u001b[0m\u001b[0mmask\u001b[0m\u001b[0;34m]\u001b[0m\u001b[0;34m\u001b[0m\u001b[0;34m\u001b[0m\u001b[0m\n\u001b[1;32m   5289\u001b[0m         \u001b[0;32mreturn\u001b[0m \u001b[0mself\u001b[0m\u001b[0;34m.\u001b[0m\u001b[0mdelete\u001b[0m\u001b[0;34m(\u001b[0m\u001b[0mindexer\u001b[0m\u001b[0;34m)\u001b[0m\u001b[0;34m\u001b[0m\u001b[0;34m\u001b[0m\u001b[0m\n",
            "\u001b[0;31mKeyError\u001b[0m: \"['intercept'] not found in axis\""
          ]
        }
      ]
    },
    {
      "cell_type": "code",
      "metadata": {
        "colab": {
          "base_uri": "https://localhost:8080/",
          "height": 414
        },
        "id": "shPsO1uIoTru",
        "outputId": "852e7850-1cba-4c87-cc8d-28b4e961939a"
      },
      "source": [
        "dfALL_oversampler\n"
      ],
      "execution_count": null,
      "outputs": [
        {
          "output_type": "execute_result",
          "data": {
            "text/html": [
              "<div>\n",
              "<style scoped>\n",
              "    .dataframe tbody tr th:only-of-type {\n",
              "        vertical-align: middle;\n",
              "    }\n",
              "\n",
              "    .dataframe tbody tr th {\n",
              "        vertical-align: top;\n",
              "    }\n",
              "\n",
              "    .dataframe thead th {\n",
              "        text-align: right;\n",
              "    }\n",
              "</style>\n",
              "<table border=\"1\" class=\"dataframe\">\n",
              "  <thead>\n",
              "    <tr style=\"text-align: right;\">\n",
              "      <th></th>\n",
              "      <th>NILAI RATA-RATA RAPOR</th>\n",
              "      <th>NILAI RATA-RATA MAPEL UN</th>\n",
              "      <th>PRESTASI</th>\n",
              "      <th>STATUS SNMPTN</th>\n",
              "    </tr>\n",
              "  </thead>\n",
              "  <tbody>\n",
              "    <tr>\n",
              "      <th>0</th>\n",
              "      <td>83.630000</td>\n",
              "      <td>82.710000</td>\n",
              "      <td>0.0</td>\n",
              "      <td>0</td>\n",
              "    </tr>\n",
              "    <tr>\n",
              "      <th>1</th>\n",
              "      <td>85.660000</td>\n",
              "      <td>85.430000</td>\n",
              "      <td>0.0</td>\n",
              "      <td>0</td>\n",
              "    </tr>\n",
              "    <tr>\n",
              "      <th>2</th>\n",
              "      <td>80.610000</td>\n",
              "      <td>77.480000</td>\n",
              "      <td>0.0</td>\n",
              "      <td>0</td>\n",
              "    </tr>\n",
              "    <tr>\n",
              "      <th>3</th>\n",
              "      <td>85.190000</td>\n",
              "      <td>82.630000</td>\n",
              "      <td>0.0</td>\n",
              "      <td>0</td>\n",
              "    </tr>\n",
              "    <tr>\n",
              "      <th>4</th>\n",
              "      <td>82.400000</td>\n",
              "      <td>80.000000</td>\n",
              "      <td>0.0</td>\n",
              "      <td>0</td>\n",
              "    </tr>\n",
              "    <tr>\n",
              "      <th>...</th>\n",
              "      <td>...</td>\n",
              "      <td>...</td>\n",
              "      <td>...</td>\n",
              "      <td>...</td>\n",
              "    </tr>\n",
              "    <tr>\n",
              "      <th>975</th>\n",
              "      <td>87.961784</td>\n",
              "      <td>87.308265</td>\n",
              "      <td>0.0</td>\n",
              "      <td>1</td>\n",
              "    </tr>\n",
              "    <tr>\n",
              "      <th>976</th>\n",
              "      <td>84.418934</td>\n",
              "      <td>83.899878</td>\n",
              "      <td>0.0</td>\n",
              "      <td>1</td>\n",
              "    </tr>\n",
              "    <tr>\n",
              "      <th>977</th>\n",
              "      <td>87.884411</td>\n",
              "      <td>86.095630</td>\n",
              "      <td>0.0</td>\n",
              "      <td>1</td>\n",
              "    </tr>\n",
              "    <tr>\n",
              "      <th>978</th>\n",
              "      <td>87.572009</td>\n",
              "      <td>85.368824</td>\n",
              "      <td>0.0</td>\n",
              "      <td>1</td>\n",
              "    </tr>\n",
              "    <tr>\n",
              "      <th>979</th>\n",
              "      <td>87.355355</td>\n",
              "      <td>85.395781</td>\n",
              "      <td>0.0</td>\n",
              "      <td>1</td>\n",
              "    </tr>\n",
              "  </tbody>\n",
              "</table>\n",
              "<p>980 rows × 4 columns</p>\n",
              "</div>"
            ],
            "text/plain": [
              "     NILAI RATA-RATA RAPOR  NILAI RATA-RATA MAPEL UN  PRESTASI  STATUS SNMPTN\n",
              "0                83.630000                 82.710000       0.0              0\n",
              "1                85.660000                 85.430000       0.0              0\n",
              "2                80.610000                 77.480000       0.0              0\n",
              "3                85.190000                 82.630000       0.0              0\n",
              "4                82.400000                 80.000000       0.0              0\n",
              "..                     ...                       ...       ...            ...\n",
              "975              87.961784                 87.308265       0.0              1\n",
              "976              84.418934                 83.899878       0.0              1\n",
              "977              87.884411                 86.095630       0.0              1\n",
              "978              87.572009                 85.368824       0.0              1\n",
              "979              87.355355                 85.395781       0.0              1\n",
              "\n",
              "[980 rows x 4 columns]"
            ]
          },
          "metadata": {
            "tags": []
          },
          "execution_count": 13
        }
      ]
    },
    {
      "cell_type": "code",
      "metadata": {
        "colab": {
          "base_uri": "https://localhost:8080/"
        },
        "id": "STAUlwkXmm7Y",
        "outputId": "f0a22371-c04a-4ea8-b2e3-dc10ffbeb4bb"
      },
      "source": [
        "#membuat model logit dengan variabel y dan X dan fit data\n",
        "logit_model_ALL=sm.Logit(yALL_oversample, XALL_oversample)\n",
        "result_ALL=logit_model_ALL.fit()\n",
        "\n",
        "#mencetak hasil model \n",
        "print(result_ALL.summary2())"
      ],
      "execution_count": null,
      "outputs": [
        {
          "output_type": "stream",
          "text": [
            "Optimization terminated successfully.\n",
            "         Current function value: 0.673571\n",
            "         Iterations 7\n",
            "                         Results: Logit\n",
            "=================================================================\n",
            "Model:              Logit            Pseudo R-squared: 0.028     \n",
            "Dependent Variable: y                AIC:              1326.2001 \n",
            "Date:               2021-06-18 08:58 BIC:              1340.8627 \n",
            "No. Observations:   980              Log-Likelihood:   -660.10   \n",
            "Df Model:           2                LL-Null:          -679.28   \n",
            "Df Residuals:       977              LLR p-value:      4.6602e-09\n",
            "Converged:          1.0000           Scale:            1.0000    \n",
            "No. Iterations:     7.0000                                       \n",
            "--------------------------------------------------------------------\n",
            "       Coef.     Std.Err.       z       P>|z|      [0.025     0.975]\n",
            "--------------------------------------------------------------------\n",
            "x1     0.0688      0.0273     2.5172    0.0118     0.0152     0.1223\n",
            "x2    -0.0686      0.0278    -2.4685    0.0136    -0.1230    -0.0141\n",
            "x3    -0.2810      0.0749    -3.7536    0.0002    -0.4277    -0.1343\n",
            "=================================================================\n",
            "\n"
          ],
          "name": "stdout"
        }
      ]
    },
    {
      "cell_type": "code",
      "metadata": {
        "colab": {
          "base_uri": "https://localhost:8080/"
        },
        "id": "vZtTroETlVyy",
        "outputId": "ef9837a6-196f-4cf6-a75a-01b3ea35d2b7"
      },
      "source": [
        "dominance_classification=Dominance(data=dfALL_oversampler,target='STATUS SNMPTN',top_k = None,objective=1,pseudo_r2=\"nagelkerke\")"
      ],
      "execution_count": null,
      "outputs": [
        {
          "output_type": "stream",
          "text": [
            "Selecting 3 Best Predictors for the Model\n",
            "Selected Predictors :  ['NILAI RATA-RATA RAPOR', 'NILAI RATA-RATA MAPEL UN', 'PRESTASI']\n",
            "\n",
            "********************  R-Squared of Complete Model :  ********************\n",
            "R Squared : 0.3192196639552426\n",
            "\n"
          ],
          "name": "stdout"
        }
      ]
    },
    {
      "cell_type": "code",
      "metadata": {
        "colab": {
          "base_uri": "https://localhost:8080/"
        },
        "id": "k5rQEi-7Zdfi",
        "outputId": "dadc254e-0c37-484d-dde1-57018d4d7577"
      },
      "source": [
        "print(np.exp(result_ALL.params))"
      ],
      "execution_count": null,
      "outputs": [
        {
          "output_type": "stream",
          "text": [
            "[1.07120823 0.93374469 0.75504728]\n"
          ],
          "name": "stdout"
        }
      ]
    },
    {
      "cell_type": "code",
      "metadata": {
        "id": "GpkP-h5th7u4"
      },
      "source": [
        ""
      ],
      "execution_count": null,
      "outputs": []
    },
    {
      "cell_type": "code",
      "metadata": {
        "id": "HsA86Xsrpw2O"
      },
      "source": [
        ""
      ],
      "execution_count": null,
      "outputs": []
    },
    {
      "cell_type": "code",
      "metadata": {
        "colab": {
          "base_uri": "https://localhost:8080/",
          "height": 238
        },
        "id": "xIMqdaYU2dcw",
        "outputId": "3b7d00f0-a910-4ba9-9111-58c4df3e5b97"
      },
      "source": [
        "# 2 | MODEL DENGAN 3 FITUR\n",
        "#Training with oversampled data\n",
        "classifier_oALL = LogisticRegression()\n",
        "classifier_oALL.fit(XALL_oversample, yALL_oversample)\n",
        "#print(classification_report(y_testALL, classifier_oALL.predict(X_testALL)))"
      ],
      "execution_count": null,
      "outputs": [
        {
          "output_type": "error",
          "ename": "NameError",
          "evalue": "ignored",
          "traceback": [
            "\u001b[0;31m---------------------------------------------------------------------------\u001b[0m",
            "\u001b[0;31mNameError\u001b[0m                                 Traceback (most recent call last)",
            "\u001b[0;32m<ipython-input-1-290adcaa27e5>\u001b[0m in \u001b[0;36m<module>\u001b[0;34m()\u001b[0m\n\u001b[1;32m      1\u001b[0m \u001b[0;31m# 2 | MODEL DENGAN 3 FITUR\u001b[0m\u001b[0;34m\u001b[0m\u001b[0;34m\u001b[0m\u001b[0;34m\u001b[0m\u001b[0m\n\u001b[1;32m      2\u001b[0m \u001b[0;31m#Training with oversampled data\u001b[0m\u001b[0;34m\u001b[0m\u001b[0;34m\u001b[0m\u001b[0;34m\u001b[0m\u001b[0m\n\u001b[0;32m----> 3\u001b[0;31m \u001b[0mclassifier_oALL\u001b[0m \u001b[0;34m=\u001b[0m \u001b[0mLogisticRegression\u001b[0m\u001b[0;34m(\u001b[0m\u001b[0;34m)\u001b[0m\u001b[0;34m\u001b[0m\u001b[0;34m\u001b[0m\u001b[0m\n\u001b[0m\u001b[1;32m      4\u001b[0m \u001b[0mclassifier_oALL\u001b[0m\u001b[0;34m.\u001b[0m\u001b[0mfit\u001b[0m\u001b[0;34m(\u001b[0m\u001b[0mXALL_oversample\u001b[0m\u001b[0;34m,\u001b[0m \u001b[0myALL_oversample\u001b[0m\u001b[0;34m)\u001b[0m\u001b[0;34m\u001b[0m\u001b[0;34m\u001b[0m\u001b[0m\n\u001b[1;32m      5\u001b[0m \u001b[0;31m#print(classification_report(y_testALL, classifier_oALL.predict(X_testALL)))\u001b[0m\u001b[0;34m\u001b[0m\u001b[0;34m\u001b[0m\u001b[0;34m\u001b[0m\u001b[0m\n",
            "\u001b[0;31mNameError\u001b[0m: name 'LogisticRegression' is not defined"
          ]
        }
      ]
    },
    {
      "cell_type": "code",
      "metadata": {
        "colab": {
          "base_uri": "https://localhost:8080/"
        },
        "id": "vRFVTriznB3S",
        "outputId": "7306b311-94eb-45b6-86c6-09532dac7fe7"
      },
      "source": [
        "classifier_oALL = LogisticRegression()\n",
        "classifier_oALL.fit(XALL_oversample, yALL_oversample)\n",
        "print(classification_report(yALL_oversample, classifier_oALL.predict(XALL_oversample)))"
      ],
      "execution_count": null,
      "outputs": [
        {
          "output_type": "stream",
          "text": [
            "              precision    recall  f1-score   support\n",
            "\n",
            "           0       0.81      0.76      0.78       490\n",
            "           1       0.77      0.82      0.80       490\n",
            "\n",
            "    accuracy                           0.79       980\n",
            "   macro avg       0.79      0.79      0.79       980\n",
            "weighted avg       0.79      0.79      0.79       980\n",
            "\n"
          ],
          "name": "stdout"
        }
      ]
    },
    {
      "cell_type": "code",
      "metadata": {
        "colab": {
          "base_uri": "https://localhost:8080/"
        },
        "id": "z1l1GtPed4ts",
        "outputId": "b079355e-efe2-495c-f176-0f6a15fae93b"
      },
      "source": [
        "# 2 | MODEL DENGAN 3 FITUR\n",
        "y_predALL = classifier_oALL.predict(X_testALL)\n",
        "print('Accuracy of logistic regression (3 FITUR) classifier on test set: {:.2f}'.format(classifier_oALL.score(X_testALL, y_testALL)))"
      ],
      "execution_count": null,
      "outputs": [
        {
          "output_type": "stream",
          "text": [
            "Accuracy of logistic regression (3 FITUR) classifier on test set: 0.69\n"
          ],
          "name": "stdout"
        }
      ]
    },
    {
      "cell_type": "code",
      "metadata": {
        "colab": {
          "base_uri": "https://localhost:8080/",
          "height": 414
        },
        "id": "1nQELKilB1W8",
        "outputId": "dbcc42b2-093a-482b-f87a-b6a3dda27797"
      },
      "source": [
        "y_testALL.reset_index()"
      ],
      "execution_count": null,
      "outputs": [
        {
          "output_type": "execute_result",
          "data": {
            "text/html": [
              "<div>\n",
              "<style scoped>\n",
              "    .dataframe tbody tr th:only-of-type {\n",
              "        vertical-align: middle;\n",
              "    }\n",
              "\n",
              "    .dataframe tbody tr th {\n",
              "        vertical-align: top;\n",
              "    }\n",
              "\n",
              "    .dataframe thead th {\n",
              "        text-align: right;\n",
              "    }\n",
              "</style>\n",
              "<table border=\"1\" class=\"dataframe\">\n",
              "  <thead>\n",
              "    <tr style=\"text-align: right;\">\n",
              "      <th></th>\n",
              "      <th>index</th>\n",
              "      <th>STATUS SNMPTN</th>\n",
              "    </tr>\n",
              "  </thead>\n",
              "  <tbody>\n",
              "    <tr>\n",
              "      <th>0</th>\n",
              "      <td>478</td>\n",
              "      <td>0</td>\n",
              "    </tr>\n",
              "    <tr>\n",
              "      <th>1</th>\n",
              "      <td>195</td>\n",
              "      <td>0</td>\n",
              "    </tr>\n",
              "    <tr>\n",
              "      <th>2</th>\n",
              "      <td>87</td>\n",
              "      <td>0</td>\n",
              "    </tr>\n",
              "    <tr>\n",
              "      <th>3</th>\n",
              "      <td>566</td>\n",
              "      <td>0</td>\n",
              "    </tr>\n",
              "    <tr>\n",
              "      <th>4</th>\n",
              "      <td>583</td>\n",
              "      <td>0</td>\n",
              "    </tr>\n",
              "    <tr>\n",
              "      <th>...</th>\n",
              "      <td>...</td>\n",
              "      <td>...</td>\n",
              "    </tr>\n",
              "    <tr>\n",
              "      <th>124</th>\n",
              "      <td>626</td>\n",
              "      <td>0</td>\n",
              "    </tr>\n",
              "    <tr>\n",
              "      <th>125</th>\n",
              "      <td>331</td>\n",
              "      <td>0</td>\n",
              "    </tr>\n",
              "    <tr>\n",
              "      <th>126</th>\n",
              "      <td>6</td>\n",
              "      <td>1</td>\n",
              "    </tr>\n",
              "    <tr>\n",
              "      <th>127</th>\n",
              "      <td>480</td>\n",
              "      <td>0</td>\n",
              "    </tr>\n",
              "    <tr>\n",
              "      <th>128</th>\n",
              "      <td>403</td>\n",
              "      <td>0</td>\n",
              "    </tr>\n",
              "  </tbody>\n",
              "</table>\n",
              "<p>129 rows × 2 columns</p>\n",
              "</div>"
            ],
            "text/plain": [
              "     index  STATUS SNMPTN\n",
              "0      478              0\n",
              "1      195              0\n",
              "2       87              0\n",
              "3      566              0\n",
              "4      583              0\n",
              "..     ...            ...\n",
              "124    626              0\n",
              "125    331              0\n",
              "126      6              1\n",
              "127    480              0\n",
              "128    403              0\n",
              "\n",
              "[129 rows x 2 columns]"
            ]
          },
          "metadata": {
            "tags": []
          },
          "execution_count": 21
        }
      ]
    },
    {
      "cell_type": "code",
      "metadata": {
        "colab": {
          "base_uri": "https://localhost:8080/",
          "height": 110
        },
        "id": "dBy7cugufApO",
        "outputId": "8cc9bba9-4e6f-433d-de61-113b88e4d850"
      },
      "source": [
        "# 2 | MODEL DENGAN 3 FITUR\n",
        "\n",
        "labelsALL = np.unique(y_testALL)\n",
        "confusion_matrix_ALL = confusion_matrix(y_testALL, y_predALL, labels=labelsALL)\n",
        "\n",
        "#print(confusion_matrix)\n",
        "\n",
        "pd.DataFrame(confusion_matrix_ALL, index=labelsALL, columns=labelsALL)"
      ],
      "execution_count": null,
      "outputs": [
        {
          "output_type": "execute_result",
          "data": {
            "text/html": [
              "<div>\n",
              "<style scoped>\n",
              "    .dataframe tbody tr th:only-of-type {\n",
              "        vertical-align: middle;\n",
              "    }\n",
              "\n",
              "    .dataframe tbody tr th {\n",
              "        vertical-align: top;\n",
              "    }\n",
              "\n",
              "    .dataframe thead th {\n",
              "        text-align: right;\n",
              "    }\n",
              "</style>\n",
              "<table border=\"1\" class=\"dataframe\">\n",
              "  <thead>\n",
              "    <tr style=\"text-align: right;\">\n",
              "      <th></th>\n",
              "      <th>0</th>\n",
              "      <th>1</th>\n",
              "    </tr>\n",
              "  </thead>\n",
              "  <tbody>\n",
              "    <tr>\n",
              "      <th>0</th>\n",
              "      <td>86</td>\n",
              "      <td>38</td>\n",
              "    </tr>\n",
              "    <tr>\n",
              "      <th>1</th>\n",
              "      <td>2</td>\n",
              "      <td>3</td>\n",
              "    </tr>\n",
              "  </tbody>\n",
              "</table>\n",
              "</div>"
            ],
            "text/plain": [
              "    0   1\n",
              "0  86  38\n",
              "1   2   3"
            ]
          },
          "metadata": {
            "tags": []
          },
          "execution_count": 22
        }
      ]
    },
    {
      "cell_type": "code",
      "metadata": {
        "colab": {
          "base_uri": "https://localhost:8080/"
        },
        "id": "HBrCUkmFf--y",
        "outputId": "ff843d06-a20e-4cb1-d870-223eb0cc6f5d"
      },
      "source": [
        "# 2 | MODEL DENGAN 3 FITUR\n",
        "\n",
        "target_names_ALL = ['Tidak Diterima','Diterima']\n",
        "print(classification_report(y_testALL, y_predALL, target_names=target_names_ALL))"
      ],
      "execution_count": null,
      "outputs": [
        {
          "output_type": "stream",
          "text": [
            "                precision    recall  f1-score   support\n",
            "\n",
            "Tidak Diterima       0.98      0.69      0.81       124\n",
            "      Diterima       0.07      0.60      0.13         5\n",
            "\n",
            "      accuracy                           0.69       129\n",
            "     macro avg       0.53      0.65      0.47       129\n",
            "  weighted avg       0.94      0.69      0.78       129\n",
            "\n"
          ],
          "name": "stdout"
        }
      ]
    },
    {
      "cell_type": "code",
      "metadata": {
        "id": "yEy1EpMdImmO"
      },
      "source": [
        "combine= classification_report(y_testALL, y_predALL, target_names=target_names_ALL,output_dict=True)\n",
        "dfREPORT = pd.DataFrame(combine).transpose()\n",
        "dfREPORT.to_excel(r'Hasil Report.xlsx')"
      ],
      "execution_count": null,
      "outputs": []
    },
    {
      "cell_type": "code",
      "metadata": {
        "id": "qYcTMU5KiKDl"
      },
      "source": [
        "def efron_rsquare(y_testALL, y_predALL):\n",
        "    n = float(len(y_testALL))\n",
        "    t1 = np.sum(np.power(y_testALL - y_predALL, 2.0))\n",
        "    t2 = np.sum(np.power((y_testALL - (np.sum(y_testALL) / n)), 2.0))\n",
        "    return 1.0 - (t1 / t2)"
      ],
      "execution_count": null,
      "outputs": []
    },
    {
      "cell_type": "code",
      "metadata": {
        "colab": {
          "base_uri": "https://localhost:8080/"
        },
        "id": "zptf4Rb7iVso",
        "outputId": "73e467c9-30a8-4f22-b484-c13cf9a86f15"
      },
      "source": [
        "efron_rsquare(y_testALL, y_predALL)"
      ],
      "execution_count": null,
      "outputs": [
        {
          "output_type": "execute_result",
          "data": {
            "text/plain": [
              "-7.530645161290321"
            ]
          },
          "metadata": {
            "tags": []
          },
          "execution_count": 45
        }
      ]
    },
    {
      "cell_type": "code",
      "metadata": {
        "id": "G3kNd1L_jLTc"
      },
      "source": [
        "def mz_rsquare(y_predALL):\n",
        "    return np.var(y_predALL) / (np.var(y_predALL) + (np.power(np.pi, 2.0) / 3.0) )"
      ],
      "execution_count": null,
      "outputs": []
    },
    {
      "cell_type": "code",
      "metadata": {
        "colab": {
          "base_uri": "https://localhost:8080/"
        },
        "id": "z2kJ1Yc8jPoB",
        "outputId": "bfea081e-1e9f-41ef-bbc4-a73bcbddd4d1"
      },
      "source": [
        "mz_rsquare(y_predALL)\n"
      ],
      "execution_count": null,
      "outputs": [
        {
          "output_type": "execute_result",
          "data": {
            "text/plain": [
              "0.06256774789505185"
            ]
          },
          "metadata": {
            "tags": []
          },
          "execution_count": 49
        }
      ]
    },
    {
      "cell_type": "code",
      "metadata": {
        "colab": {
          "base_uri": "https://localhost:8080/"
        },
        "id": "Wzg5eTeojcRN",
        "outputId": "fc05d3a2-44b9-46bf-c09e-7818c63e7cc2"
      },
      "source": [
        "def get_num_correct(y_testALL, y_predALL, t=0.5):\n",
        "    y_correct = np.array([0.0 if p < t else 1.0 for p in y_predALL])\n",
        "    return sum([1.0 for p, p_pred in zip(y_testALL, y_correct) if p == p_pred])\n",
        "\n",
        "def count_rsquare(y_testALL, y_predALL, t=0.5):\n",
        "    n = float(len(y_testALL))\n",
        "    num_correct = get_num_correct(y_testALL, y_predALL, t)\n",
        "    return num_correct / n\n",
        "\n",
        "def get_count_most_freq_outcome(y_testALL):\n",
        "    num_0 = 0\n",
        "    num_1 = 0\n",
        "    for p in y_testALL:\n",
        "        if p == 1.0:\n",
        "            num_1 += 1\n",
        "        else:\n",
        "            num_0 += 1\n",
        "    return float(max(num_0, num_1))\n",
        "\n",
        "def count_adjusted_rsquare(y_testALL, y_predALL, t=0.5):\n",
        "    correct = get_num_correct(y_testALL, y_predALL, t)\n",
        "    total = float(len(y_testALL))\n",
        "    n = get_count_most_freq_outcome(y_testALL)\n",
        "    return (correct - n) / (total - n)\n",
        "\n",
        "count_rsquare(y_testALL, y_predALL)\n",
        "#count_adjusted_rsquare(y_testALL, y_predALL)"
      ],
      "execution_count": null,
      "outputs": [
        {
          "output_type": "execute_result",
          "data": {
            "text/plain": [
              "0.6821705426356589"
            ]
          },
          "metadata": {
            "tags": []
          },
          "execution_count": 55
        }
      ]
    },
    {
      "cell_type": "code",
      "metadata": {
        "colab": {
          "base_uri": "https://localhost:8080/"
        },
        "id": "gerYk-Llisuc",
        "outputId": "7e08cb28-2554-4b27-d0d5-3b16b3991c4a"
      },
      "source": [
        "prediction = list(map(round, y_predALL))\n",
        "#selected_snmptn['STATUS SNMPTN'] = selected_snmptn['STATUS SNMPTN'].map({'DITERIMA': 1, 'TIDAK DITERIMA': 0})\n",
        "\n",
        "print('nilaisli:', list(y_testALL))\n",
        "print('prediksi:', prediction)"
      ],
      "execution_count": null,
      "outputs": [
        {
          "output_type": "stream",
          "text": [
            "nilaisli: [0, 0, 0, 0, 0, 0, 0, 0, 0, 0, 0, 0, 0, 0, 0, 0, 0, 0, 0, 0, 0, 0, 0, 0, 0, 0, 0, 0, 0, 0, 0, 0, 1, 0, 0, 0, 0, 0, 0, 0, 0, 0, 0, 0, 0, 0, 0, 0, 0, 0, 0, 0, 0, 0, 0, 0, 0, 0, 0, 0, 0, 0, 0, 0, 0, 0, 0, 0, 0, 0, 0, 0, 0, 0, 0, 0, 0, 0, 0, 0, 0, 0, 0, 0, 0, 0, 0, 0, 0, 1, 0, 0, 0, 0, 0, 0, 0, 0, 0, 0, 0, 0, 0, 0, 0, 0, 0, 0, 0, 1, 0, 1, 0, 0, 0, 0, 0, 0, 0, 0, 0, 0, 0, 0, 0, 0, 1, 0, 0]\n",
            "prediksi: [0, 0, 1, 1, 1, 0, 0, 0, 1, 0, 0, 0, 1, 0, 1, 0, 0, 0, 1, 0, 0, 0, 0, 0, 0, 1, 1, 1, 0, 0, 1, 1, 0, 0, 1, 1, 0, 0, 0, 0, 0, 0, 1, 0, 0, 0, 1, 0, 0, 0, 0, 0, 0, 1, 0, 1, 0, 0, 0, 0, 1, 0, 0, 1, 0, 0, 0, 1, 0, 0, 0, 0, 0, 0, 0, 0, 0, 1, 0, 1, 1, 0, 1, 0, 0, 0, 1, 0, 1, 1, 0, 0, 0, 0, 0, 0, 0, 0, 1, 1, 0, 0, 0, 0, 1, 0, 1, 0, 1, 1, 0, 0, 0, 1, 1, 1, 1, 0, 1, 0, 1, 0, 0, 0, 0, 0, 1, 0, 0]\n"
          ],
          "name": "stdout"
        }
      ]
    },
    {
      "cell_type": "code",
      "metadata": {
        "id": "5klBCWf66qg7"
      },
      "source": [
        ""
      ],
      "execution_count": null,
      "outputs": []
    },
    {
      "cell_type": "code",
      "metadata": {
        "id": "-mWyAqqJ2rPV"
      },
      "source": [
        "selected_X_testALL = X_testALL.reset_index()\n",
        "class_pred = pd.DataFrame(y_predALL)\n",
        "class_pred.columns = ['class_predicted']\n",
        "y_testALL_reset = y_testALL.reset_index()\n",
        "y_testALL_reset = y_testALL_reset.drop(['index'], axis = 1)\n",
        "class_test = pd.DataFrame(y_testALL_reset)\n",
        "class_test.columns = ['class_test']\n",
        "combinedDf2 = pd.concat([selected_X_testALL, class_test,class_pred], axis = 1).reset_index()\n",
        "combinedDf2 = combinedDf2.drop(['index', 'level_0'], axis = 1)\n",
        "combinedDf2.head(10)\n",
        "combinedDf2.to_excel(r'Hasil Prediksi.xlsx')"
      ],
      "execution_count": null,
      "outputs": []
    },
    {
      "cell_type": "code",
      "metadata": {
        "id": "O9iOc4qNBayy"
      },
      "source": [
        "y_testALL"
      ],
      "execution_count": null,
      "outputs": []
    },
    {
      "cell_type": "code",
      "metadata": {
        "id": "A5P45ig3AXnh"
      },
      "source": [
        "#nondeeem\n",
        "\n",
        "selected_X_testALL = X_testALL\n",
        "class_pred = pd.DataFrame(y_predALL)\n",
        "class_pred.columns = ['class_predicted']\n",
        "class_test = pd.DataFrame(y_testALL)\n",
        "class_test.columns = ['class_test']\n",
        "combinedDf2 = pd.concat([selected_X_testALL, class_test], axis = 1)\n",
        "#combinedDf2 = combinedDf2.drop(['index', 'level_0'], axis = 1)\n",
        "combinedDf2.sort_index()"
      ],
      "execution_count": null,
      "outputs": []
    },
    {
      "cell_type": "code",
      "metadata": {
        "id": "vSq_91Rs7we6"
      },
      "source": [
        "class_test.sort_index()\n"
      ],
      "execution_count": null,
      "outputs": []
    },
    {
      "cell_type": "code",
      "metadata": {
        "id": "PO6lMjsJlP70"
      },
      "source": [
        ""
      ],
      "execution_count": null,
      "outputs": []
    },
    {
      "cell_type": "code",
      "metadata": {
        "colab": {
          "base_uri": "https://localhost:8080/",
          "height": 301
        },
        "id": "KeWb2c_uk5VK",
        "outputId": "b1bfde52-a57d-4964-f22e-d908555a3b75"
      },
      "source": [
        "logit_roc_auc_ALL = roc_auc_score(y_testALL, classifier_oALL.predict(X_testALL))\n",
        "fprALL, tprALL, thresholdsALL = roc_curve(y_testALL, classifier_oALL.predict_proba(X_testALL)[:,1])\n",
        "\n",
        "plt.figure()\n",
        "plt.plot(fprALL, tprALL, label='Logistic Regression (area = %0.2f)' % logit_roc_auc_ALL)\n",
        "plt.plot([0, 1], [0, 1],'r--')\n",
        "plt.xlim([0.0, 1.0])\n",
        "plt.ylim([0.0, 1.05])\n",
        "plt.xlabel('False Positive Rate')\n",
        "plt.ylabel('True Positive Rate')\n",
        "plt.title('Receiver operating characteristic')\n",
        "plt.legend(loc=\"lower right\")\n",
        "plt.savefig('Log_ROC')\n",
        "plt.show()"
      ],
      "execution_count": null,
      "outputs": [
        {
          "output_type": "display_data",
          "data": {
            "image/png": "[encoded data removed]",
            "text/plain": [
              "<Figure size 432x288 with 1 Axes>"
            ]
          },
          "metadata": {
            "tags": []
          }
        }
      ]
    },
    {
      "cell_type": "code",
      "metadata": {
        "id": "_WaZ_bMMco8s"
      },
      "source": [
        ""
      ],
      "execution_count": null,
      "outputs": []
    },
    {
      "cell_type": "code",
      "metadata": {
        "id": "XRdqNX4vZ1m1"
      },
      "source": [
        "# 3 | MODEL DENGAN 2 FITUR \"NILAI RATA-RATA RAPOR\",\"NILAI RATA-RATA MAPEL UN\"\n",
        "\n",
        "#Splitting the data with stratification\n",
        "X_trainRU, X_testRU, y_trainRU, y_testRU = train_test_split(selected_snmptn[[\"NILAI RATA-RATA RAPOR\",\"NILAI RATA-RATA MAPEL UN\"]], \n",
        "                                                    selected_snmptn['STATUS SNMPTN'], test_size = 0.2, stratify = selected_snmptn['STATUS SNMPTN'], random_state = 101)"
      ],
      "execution_count": null,
      "outputs": []
    },
    {
      "cell_type": "code",
      "metadata": {
        "colab": {
          "base_uri": "https://localhost:8080/",
          "height": 464
        },
        "id": "-1yyWNKsa0hD",
        "outputId": "f4d79afa-2f6f-4ab9-d732-51671f871edd"
      },
      "source": [
        "# 3 | MODEL DENGAN 2 FITUR \"NILAI RATA-RATA RAPOR\",\"NILAI RATA-RATA MAPEL UN\"\n",
        "\n",
        "XRU_oversample, yRU_oversample = smote.fit_resample(X_trainRU, y_trainRU)\n",
        "dfRU_oversampler = pd.concat([pd.DataFrame(XRU_oversample, columns = [\"NILAI RATA-RATA RAPOR\",\"NILAI RATA-RATA MAPEL UN\"]), pd.DataFrame(yRU_oversample, columns=['STATUS SNMPTN'])], axis=1)\n",
        "\n",
        "sns.countplot(dfRU_oversampler['STATUS SNMPTN'])\n",
        "jumlahRU = dfRU_oversampler['STATUS SNMPTN'].count()\n",
        "print(jumlahRU/2)"
      ],
      "execution_count": null,
      "outputs": [
        {
          "output_type": "stream",
          "text": [
            "490.0\n"
          ],
          "name": "stdout"
        },
        {
          "output_type": "stream",
          "text": [
            "/usr/local/lib/python3.7/dist-packages/sklearn/utils/deprecation.py:87: FutureWarning:\n",
            "\n",
            "Function safe_indexing is deprecated; safe_indexing is deprecated in version 0.22 and will be removed in version 0.24.\n",
            "\n",
            "/usr/local/lib/python3.7/dist-packages/seaborn/_decorators.py:43: FutureWarning:\n",
            "\n",
            "Pass the following variable as a keyword arg: x. From version 0.12, the only valid positional argument will be `data`, and passing other arguments without an explicit keyword will result in an error or misinterpretation.\n",
            "\n"
          ],
          "name": "stderr"
        },
        {
          "output_type": "display_data",
          "data": {
            "image/png": "[encoded data removed]",
            "text/plain": [
              "<Figure size 432x288 with 1 Axes>"
            ]
          },
          "metadata": {
            "tags": []
          }
        }
      ]
    },
    {
      "cell_type": "code",
      "metadata": {
        "colab": {
          "base_uri": "https://localhost:8080/"
        },
        "id": "s4HbMqYfm6jC",
        "outputId": "3e11f5f4-67b4-4deb-a933-ced9b64d8560"
      },
      "source": [
        "#membuat model logit dengan variabel y dan X dan fit data\n",
        "logit_model_RU=sm.Logit(yRU_oversample, XRU_oversample)\n",
        "result_RU=logit_model_RU.fit()\n",
        "\n",
        "#mencetak hasil model \n",
        "print(result_RU.summary2())"
      ],
      "execution_count": null,
      "outputs": [
        {
          "output_type": "stream",
          "text": [
            "Optimization terminated successfully.\n",
            "         Current function value: 0.689043\n",
            "         Iterations 4\n",
            "                         Results: Logit\n",
            "================================================================\n",
            "Model:              Logit            Pseudo R-squared: 0.006    \n",
            "Dependent Variable: y                AIC:              1354.5241\n",
            "Date:               2021-06-18 08:59 BIC:              1364.2992\n",
            "No. Observations:   980              Log-Likelihood:   -675.26  \n",
            "Df Model:           1                LL-Null:          -679.28  \n",
            "Df Residuals:       978              LLR p-value:      0.0045645\n",
            "Converged:          1.0000           Scale:            1.0000   \n",
            "No. Iterations:     4.0000                                      \n",
            "------------------------------------------------------------------\n",
            "          Coef.    Std.Err.      z      P>|z|     [0.025    0.975]\n",
            "------------------------------------------------------------------\n",
            "x1        0.0734     0.0271    2.7035   0.0069    0.0202    0.1266\n",
            "x2       -0.0742     0.0276   -2.6885   0.0072   -0.1282   -0.0201\n",
            "================================================================\n",
            "\n"
          ],
          "name": "stdout"
        }
      ]
    },
    {
      "cell_type": "code",
      "metadata": {
        "colab": {
          "base_uri": "https://localhost:8080/"
        },
        "id": "MEKd_TZlctK3",
        "outputId": "e3a43cdd-cdb4-4ebf-8736-700baafd0375"
      },
      "source": [
        "print(np.exp(result_RU.params))"
      ],
      "execution_count": null,
      "outputs": [
        {
          "output_type": "stream",
          "text": [
            "[1.07615976 0.9285229 ]\n"
          ],
          "name": "stdout"
        }
      ]
    },
    {
      "cell_type": "code",
      "metadata": {
        "colab": {
          "base_uri": "https://localhost:8080/",
          "height": 414
        },
        "id": "yNDC2LsQ9vEK",
        "outputId": "a7e1e819-9d7d-411f-ae90-fecf8a405131"
      },
      "source": [
        "dfRU_oversampler"
      ],
      "execution_count": null,
      "outputs": [
        {
          "output_type": "execute_result",
          "data": {
            "text/html": [
              "<div>\n",
              "<style scoped>\n",
              "    .dataframe tbody tr th:only-of-type {\n",
              "        vertical-align: middle;\n",
              "    }\n",
              "\n",
              "    .dataframe tbody tr th {\n",
              "        vertical-align: top;\n",
              "    }\n",
              "\n",
              "    .dataframe thead th {\n",
              "        text-align: right;\n",
              "    }\n",
              "</style>\n",
              "<table border=\"1\" class=\"dataframe\">\n",
              "  <thead>\n",
              "    <tr style=\"text-align: right;\">\n",
              "      <th></th>\n",
              "      <th>NILAI RATA-RATA RAPOR</th>\n",
              "      <th>NILAI RATA-RATA MAPEL UN</th>\n",
              "      <th>STATUS SNMPTN</th>\n",
              "    </tr>\n",
              "  </thead>\n",
              "  <tbody>\n",
              "    <tr>\n",
              "      <th>0</th>\n",
              "      <td>83.630000</td>\n",
              "      <td>82.710000</td>\n",
              "      <td>0</td>\n",
              "    </tr>\n",
              "    <tr>\n",
              "      <th>1</th>\n",
              "      <td>85.660000</td>\n",
              "      <td>85.430000</td>\n",
              "      <td>0</td>\n",
              "    </tr>\n",
              "    <tr>\n",
              "      <th>2</th>\n",
              "      <td>80.610000</td>\n",
              "      <td>77.480000</td>\n",
              "      <td>0</td>\n",
              "    </tr>\n",
              "    <tr>\n",
              "      <th>3</th>\n",
              "      <td>85.190000</td>\n",
              "      <td>82.630000</td>\n",
              "      <td>0</td>\n",
              "    </tr>\n",
              "    <tr>\n",
              "      <th>4</th>\n",
              "      <td>82.400000</td>\n",
              "      <td>80.000000</td>\n",
              "      <td>0</td>\n",
              "    </tr>\n",
              "    <tr>\n",
              "      <th>...</th>\n",
              "      <td>...</td>\n",
              "      <td>...</td>\n",
              "      <td>...</td>\n",
              "    </tr>\n",
              "    <tr>\n",
              "      <th>975</th>\n",
              "      <td>87.961784</td>\n",
              "      <td>87.308265</td>\n",
              "      <td>1</td>\n",
              "    </tr>\n",
              "    <tr>\n",
              "      <th>976</th>\n",
              "      <td>84.418934</td>\n",
              "      <td>83.899878</td>\n",
              "      <td>1</td>\n",
              "    </tr>\n",
              "    <tr>\n",
              "      <th>977</th>\n",
              "      <td>87.884411</td>\n",
              "      <td>86.095630</td>\n",
              "      <td>1</td>\n",
              "    </tr>\n",
              "    <tr>\n",
              "      <th>978</th>\n",
              "      <td>87.572009</td>\n",
              "      <td>85.368824</td>\n",
              "      <td>1</td>\n",
              "    </tr>\n",
              "    <tr>\n",
              "      <th>979</th>\n",
              "      <td>87.355355</td>\n",
              "      <td>85.395781</td>\n",
              "      <td>1</td>\n",
              "    </tr>\n",
              "  </tbody>\n",
              "</table>\n",
              "<p>980 rows × 3 columns</p>\n",
              "</div>"
            ],
            "text/plain": [
              "     NILAI RATA-RATA RAPOR  NILAI RATA-RATA MAPEL UN  STATUS SNMPTN\n",
              "0                83.630000                 82.710000              0\n",
              "1                85.660000                 85.430000              0\n",
              "2                80.610000                 77.480000              0\n",
              "3                85.190000                 82.630000              0\n",
              "4                82.400000                 80.000000              0\n",
              "..                     ...                       ...            ...\n",
              "975              87.961784                 87.308265              1\n",
              "976              84.418934                 83.899878              1\n",
              "977              87.884411                 86.095630              1\n",
              "978              87.572009                 85.368824              1\n",
              "979              87.355355                 85.395781              1\n",
              "\n",
              "[980 rows x 3 columns]"
            ]
          },
          "metadata": {
            "tags": []
          },
          "execution_count": 34
        }
      ]
    },
    {
      "cell_type": "code",
      "metadata": {
        "colab": {
          "base_uri": "https://localhost:8080/"
        },
        "id": "V276SI9I9eqt",
        "outputId": "8026848b-de15-43a4-ed80-fc7dfe6439fc"
      },
      "source": [
        "dominance_classification=Dominance(data=dfRU_oversampler,target='STATUS SNMPTN',top_k = None,objective=1,pseudo_r2=\"nagelkerke\")"
      ],
      "execution_count": null,
      "outputs": [
        {
          "output_type": "stream",
          "text": [
            "Selecting 2 Best Predictors for the Model\n",
            "Selected Predictors :  ['NILAI RATA-RATA RAPOR', 'NILAI RATA-RATA MAPEL UN']\n",
            "\n",
            "********************  R-Squared of Complete Model :  ********************\n",
            "R Squared : 0.3021920071035258\n",
            "\n"
          ],
          "name": "stdout"
        }
      ]
    },
    {
      "cell_type": "code",
      "metadata": {
        "colab": {
          "base_uri": "https://localhost:8080/"
        },
        "id": "MFN7VNvYCCTI",
        "outputId": "ab7b9abf-4891-48e3-87a7-a8e5b6a0a98f"
      },
      "source": [
        "dominance_classification=Dominance(data=dfRU_oversampler,target='STATUS SNMPTN',top_k = None,objective=1,pseudo_r2=\"nagelkerke\")\n",
        "combineRU= classification_report(y_testRU, y_predRU, target_names=target_names_RU,output_dict=True)\n",
        "dfREPORTRU = pd.DataFrame(combineRU).transpose()\n",
        "dfREPORTRU.to_excel(r'Hasil ReportRU.xlsx')"
      ],
      "execution_count": null,
      "outputs": [
        {
          "output_type": "stream",
          "text": [
            "Selecting 2 Best Predictors for the Model\n",
            "Selected Predictors :  ['NILAI RATA-RATA RAPOR', 'NILAI RATA-RATA MAPEL UN']\n",
            "\n",
            "********************  R-Squared of Complete Model :  ********************\n",
            "R Squared : 0.3021920071035258\n",
            "\n"
          ],
          "name": "stdout"
        }
      ]
    },
    {
      "cell_type": "code",
      "metadata": {
        "id": "uGcwmVon87An"
      },
      "source": [
        "selected_X_testRU = X_testRU.reset_index()\n",
        "class_predRU = pd.DataFrame(y_predRU)\n",
        "class_predRU.columns = ['class_predicted']\n",
        "#print(classification_report(y_testRU, classifier_oRU.predict(X_testRU)))\n",
        "y_testRU_reset = y_testRU.reset_index()\n",
        "y_testRU_reset = y_testRU_reset.drop(['index'], axis = 1)\n",
        "class_testRU = pd.DataFrame(y_testRU_reset)\n",
        "class_testRU.columns = ['class_test']\n",
        "combinedDfRU = pd.concat([selected_X_testRU, class_testRU,class_predRU], axis = 1).reset_index()\n",
        "combinedDfRU = combinedDfRU.drop(['index', 'level_0'], axis = 1)\n",
        "combinedDfRU.head(10)\n",
        "combinedDfRU.to_excel(r'Hasil PrediksiRU.xlsx')"
      ],
      "execution_count": null,
      "outputs": []
    },
    {
      "cell_type": "code",
      "metadata": {
        "colab": {
          "base_uri": "https://localhost:8080/"
        },
        "id": "bIa76fGBdWgF",
        "outputId": "e2642fde-5a49-4c9e-ec28-90787f83652e"
      },
      "source": [
        "# 3 | MODEL DENGAN 2 FITUR \"NILAI RATA-RATA RAPOR\",\"NILAI RATA-RATA MAPEL UN\"\n",
        "#Training with oversampled data\n",
        "classifier_oRU = LogisticRegression()\n",
        "classifier_oRU.fit(XRU_oversample, yRU_oversample)\n",
        "print(classification_report(y_testRU, classifier_oRU.predict(X_testRU)))"
      ],
      "execution_count": null,
      "outputs": [
        {
          "output_type": "stream",
          "text": [
            "              precision    recall  f1-score   support\n",
            "\n",
            "           0       0.99      0.69      0.81       124\n",
            "           1       0.09      0.80      0.17         5\n",
            "\n",
            "    accuracy                           0.69       129\n",
            "   macro avg       0.54      0.74      0.49       129\n",
            "weighted avg       0.95      0.69      0.78       129\n",
            "\n"
          ],
          "name": "stdout"
        }
      ]
    },
    {
      "cell_type": "code",
      "metadata": {
        "colab": {
          "base_uri": "https://localhost:8080/"
        },
        "id": "JQkh9m3KeEhx",
        "outputId": "34754353-0893-473f-9fe3-5e56375772b1"
      },
      "source": [
        "# 3 | MODEL DENGAN 2 FITUR \"NILAI RATA-RATA RAPOR\",\"NILAI RATA-RATA MAPEL UN\"\n",
        "y_predRU = classifier_oRU.predict(X_testRU)\n",
        "print('Accuracy of logistic regression (FITUR \"NILAI RATA-RATA RAPOR\",\"NILAI RATA-RATA MAPEL UN\") classifier on test set: {:.2f}'.format(classifier_oRU.score(X_testRU, y_testRU)))"
      ],
      "execution_count": null,
      "outputs": [
        {
          "output_type": "stream",
          "text": [
            "Accuracy of logistic regression (FITUR \"NILAI RATA-RATA RAPOR\",\"NILAI RATA-RATA MAPEL UN\") classifier on test set: 0.69\n"
          ],
          "name": "stdout"
        }
      ]
    },
    {
      "cell_type": "code",
      "metadata": {
        "colab": {
          "base_uri": "https://localhost:8080/",
          "height": 110
        },
        "id": "wwUX6jr9fVVu",
        "outputId": "6d69a1be-9424-48b7-9b93-c5a6ad40f986"
      },
      "source": [
        "# 3 | MODEL DENGAN 2 FITUR \"NILAI RATA-RATA RAPOR\",\"NILAI RATA-RATA MAPEL UN\"\n",
        "labelsRU = np.unique(y_testRU)\n",
        "confusion_matrix_RU = confusion_matrix(y_testRU, y_predRU, labels=labelsRU)\n",
        "\n",
        "#print(confusion_matrix)\n",
        "\n",
        "pd.DataFrame(confusion_matrix_RU, index=labelsRU, columns=labelsRU)"
      ],
      "execution_count": null,
      "outputs": [
        {
          "output_type": "execute_result",
          "data": {
            "text/html": [
              "<div>\n",
              "<style scoped>\n",
              "    .dataframe tbody tr th:only-of-type {\n",
              "        vertical-align: middle;\n",
              "    }\n",
              "\n",
              "    .dataframe tbody tr th {\n",
              "        vertical-align: top;\n",
              "    }\n",
              "\n",
              "    .dataframe thead th {\n",
              "        text-align: right;\n",
              "    }\n",
              "</style>\n",
              "<table border=\"1\" class=\"dataframe\">\n",
              "  <thead>\n",
              "    <tr style=\"text-align: right;\">\n",
              "      <th></th>\n",
              "      <th>0</th>\n",
              "      <th>1</th>\n",
              "    </tr>\n",
              "  </thead>\n",
              "  <tbody>\n",
              "    <tr>\n",
              "      <th>0</th>\n",
              "      <td>85</td>\n",
              "      <td>39</td>\n",
              "    </tr>\n",
              "    <tr>\n",
              "      <th>1</th>\n",
              "      <td>1</td>\n",
              "      <td>4</td>\n",
              "    </tr>\n",
              "  </tbody>\n",
              "</table>\n",
              "</div>"
            ],
            "text/plain": [
              "    0   1\n",
              "0  85  39\n",
              "1   1   4"
            ]
          },
          "metadata": {
            "tags": []
          },
          "execution_count": 39
        }
      ]
    },
    {
      "cell_type": "code",
      "metadata": {
        "colab": {
          "base_uri": "https://localhost:8080/"
        },
        "id": "U8munTiXjpSZ",
        "outputId": "073d5153-6478-40e0-e289-a2e72184f21a"
      },
      "source": [
        "target_names_RU = ['Tidak Diterima','Diterima']\n",
        "print(classification_report(y_testRU, y_predRU, target_names=target_names_RU))"
      ],
      "execution_count": null,
      "outputs": [
        {
          "output_type": "stream",
          "text": [
            "                precision    recall  f1-score   support\n",
            "\n",
            "Tidak Diterima       0.99      0.69      0.81       124\n",
            "      Diterima       0.09      0.80      0.17         5\n",
            "\n",
            "      accuracy                           0.69       129\n",
            "     macro avg       0.54      0.74      0.49       129\n",
            "  weighted avg       0.95      0.69      0.78       129\n",
            "\n"
          ],
          "name": "stdout"
        }
      ]
    },
    {
      "cell_type": "code",
      "metadata": {
        "colab": {
          "base_uri": "https://localhost:8080/",
          "height": 301
        },
        "id": "R8_1R4AWlRUi",
        "outputId": "c6fa6793-ef3f-4c03-dc41-8d06482ab80e"
      },
      "source": [
        "logit_roc_auc_RU = roc_auc_score(y_testRU, classifier_oRU.predict(X_testRU))\n",
        "fprRU, tprRU, thresholdsRU = roc_curve(y_testRU, classifier_oRU.predict_proba(X_testRU)[:,1])\n",
        "\n",
        "plt.figure()\n",
        "plt.plot(fprRU, tprRU, label='Logistic Regression (area = %0.2f)' % logit_roc_auc_RU)\n",
        "plt.plot([0, 1], [0, 1],'r--')\n",
        "plt.xlim([0.0, 1.0])\n",
        "plt.ylim([0.0, 1.05])\n",
        "plt.xlabel('False Positive Rate')\n",
        "plt.ylabel('True Positive Rate')\n",
        "plt.title('Receiver operating characteristic')\n",
        "plt.legend(loc=\"lower right\")\n",
        "plt.savefig('Log_ROC')\n",
        "plt.show()"
      ],
      "execution_count": null,
      "outputs": [
        {
          "output_type": "display_data",
          "data": {
            "image/png": "[encoded data removed]",
            "text/plain": [
              "<Figure size 432x288 with 1 Axes>"
            ]
          },
          "metadata": {
            "tags": []
          }
        }
      ]
    },
    {
      "cell_type": "code",
      "metadata": {
        "id": "7TXEbjB1cpwJ"
      },
      "source": [
        ""
      ],
      "execution_count": null,
      "outputs": []
    },
    {
      "cell_type": "code",
      "metadata": {
        "id": "zBp38dbuZ96U"
      },
      "source": [
        "# 4 | MODEL DENGAN 2 FITUR \"NILAI RATA-RATA MAPEL UN\",\"PRESTASI\"\n",
        "\n",
        "#Splitting the data with stratification\n",
        "X_trainUP, X_testUP, y_trainUP, y_testUP = train_test_split(selected_snmptn[[\"NILAI RATA-RATA MAPEL UN\",\"PRESTASI\"]], \n",
        "                                                    selected_snmptn['STATUS SNMPTN'], test_size = 0.2, stratify = selected_snmptn['STATUS SNMPTN'], random_state = 101)"
      ],
      "execution_count": null,
      "outputs": []
    },
    {
      "cell_type": "code",
      "metadata": {
        "colab": {
          "base_uri": "https://localhost:8080/",
          "height": 464
        },
        "id": "Ni-o6I6Ube1y",
        "outputId": "2a63026a-a576-4862-88a5-d634b9969a5b"
      },
      "source": [
        "# 4 | MODEL DENGAN 2 FITUR \"NILAI RATA-RATA MAPEL UN\",\"PRESTASI\"\n",
        "\n",
        "XUP_oversample, yUP_oversample = smote.fit_resample(X_trainUP, y_trainUP)\n",
        "dfUP_oversampler = pd.concat([pd.DataFrame(XUP_oversample, columns = [\"NILAI RATA-RATA MAPEL UN\",\"PRESTASI\"]), pd.DataFrame(yUP_oversample, columns=['STATUS SNMPTN'])], axis=1)\n",
        "\n",
        "sns.countplot(dfUP_oversampler['STATUS SNMPTN'])\n",
        "jumlahUP = dfUP_oversampler['STATUS SNMPTN'].count()\n",
        "print(jumlahUP/2)"
      ],
      "execution_count": null,
      "outputs": [
        {
          "output_type": "stream",
          "text": [
            "490.0\n"
          ],
          "name": "stdout"
        },
        {
          "output_type": "stream",
          "text": [
            "/usr/local/lib/python3.7/dist-packages/sklearn/utils/deprecation.py:87: FutureWarning:\n",
            "\n",
            "Function safe_indexing is deprecated; safe_indexing is deprecated in version 0.22 and will be removed in version 0.24.\n",
            "\n",
            "/usr/local/lib/python3.7/dist-packages/seaborn/_decorators.py:43: FutureWarning:\n",
            "\n",
            "Pass the following variable as a keyword arg: x. From version 0.12, the only valid positional argument will be `data`, and passing other arguments without an explicit keyword will result in an error or misinterpretation.\n",
            "\n"
          ],
          "name": "stderr"
        },
        {
          "output_type": "display_data",
          "data": {
            "image/png": "[encoded data removed]",
            "text/plain": [
              "<Figure size 432x288 with 1 Axes>"
            ]
          },
          "metadata": {
            "tags": []
          }
        }
      ]
    },
    {
      "cell_type": "code",
      "metadata": {
        "colab": {
          "base_uri": "https://localhost:8080/"
        },
        "id": "uC7CS7eynD0H",
        "outputId": "3954f9a1-aa6b-4318-9b7a-1e950caec7d1"
      },
      "source": [
        "#membuat model logit dengan variabel y dan X dan fit data\n",
        "logit_model_UP=sm.Logit(yUP_oversample, XUP_oversample)\n",
        "result_UP=logit_model_UP.fit()\n",
        "\n",
        "#mencetak hasil model \n",
        "print(result_UP.summary2())"
      ],
      "execution_count": null,
      "outputs": [
        {
          "output_type": "stream",
          "text": [
            "Optimization terminated successfully.\n",
            "         Current function value: 0.676949\n",
            "         Iterations 7\n",
            "                         Results: Logit\n",
            "=================================================================\n",
            "Model:              Logit            Pseudo R-squared: 0.023     \n",
            "Dependent Variable: y                AIC:              1330.8193 \n",
            "Date:               2021-06-18 09:00 BIC:              1340.5944 \n",
            "No. Observations:   980              Log-Likelihood:   -663.41   \n",
            "Df Model:           1                LL-Null:          -679.28   \n",
            "Df Residuals:       978              LLR p-value:      1.7542e-08\n",
            "Converged:          1.0000           Scale:            1.0000    \n",
            "No. Iterations:     7.0000                                       \n",
            "--------------------------------------------------------------------\n",
            "       Coef.     Std.Err.       z       P>|z|      [0.025     0.975]\n",
            "--------------------------------------------------------------------\n",
            "x1     0.0014      0.0008     1.7410    0.0817    -0.0002     0.0029\n",
            "x2    -0.2885      0.0750    -3.8466    0.0001    -0.4356    -0.1415\n",
            "=================================================================\n",
            "\n"
          ],
          "name": "stdout"
        }
      ]
    },
    {
      "cell_type": "code",
      "metadata": {
        "id": "dK1ZGS0Ec4BK",
        "colab": {
          "base_uri": "https://localhost:8080/"
        },
        "outputId": "3541316d-cdfa-4d4b-c2f5-542ffa7e5439"
      },
      "source": [
        "print(np.exp(result_UP.params))"
      ],
      "execution_count": null,
      "outputs": [
        {
          "output_type": "stream",
          "text": [
            "[1.00136488 0.74934988]\n"
          ],
          "name": "stdout"
        }
      ]
    },
    {
      "cell_type": "code",
      "metadata": {
        "colab": {
          "base_uri": "https://localhost:8080/"
        },
        "id": "ZQQ8UDQcSyEB",
        "outputId": "4b5fa190-72ad-4cda-9482-d6464c342bbe"
      },
      "source": [
        "dominance_classification=Dominance(data=dfUP_oversampler,target='STATUS SNMPTN',top_k = None,objective=1,pseudo_r2=\"nagelkerke\")"
      ],
      "execution_count": null,
      "outputs": [
        {
          "output_type": "stream",
          "text": [
            "Selecting 2 Best Predictors for the Model\n",
            "Selected Predictors :  ['NILAI RATA-RATA MAPEL UN', 'PRESTASI']\n",
            "\n",
            "********************  R-Squared of Complete Model :  ********************\n",
            "R Squared : 0.14984404857092526\n",
            "\n"
          ],
          "name": "stdout"
        }
      ]
    },
    {
      "cell_type": "code",
      "metadata": {
        "id": "_DF6_SxGS2Mx"
      },
      "source": [
        "combineUP= classification_report(y_testUP, y_predUP, target_names=target_names_UP,output_dict=True)\n",
        "dfREPORTUP = pd.DataFrame(combineUP).transpose()\n",
        "dfREPORTUP.to_excel(r'Hasil ReportUP.xlsx')"
      ],
      "execution_count": null,
      "outputs": []
    },
    {
      "cell_type": "code",
      "metadata": {
        "id": "hAnZItltS21c"
      },
      "source": [
        "selected_X_testUP = X_testUP.reset_index()\n",
        "class_predUP = pd.DataFrame(y_predUP)\n",
        "class_predUP.columns = ['class_predicted']\n",
        "#print(classification_report(y_testRU, classifier_oRU.predict(X_testRU)))\n",
        "y_testUP_reset = y_testUP.reset_index()\n",
        "y_testUP_reset =y_testUP_reset.drop(['index'], axis = 1)\n",
        "class_testUP = pd.DataFrame(y_testUP_reset)\n",
        "class_testUP.columns = ['class_test']\n",
        "combinedDfUP = pd.concat([selected_X_testUP, class_testUP,class_predUP], axis = 1).reset_index()\n",
        "combinedDfUP = combinedDfUP.drop(['index', 'level_0'], axis = 1)\n",
        "combinedDfUP.head(10)\n",
        "combinedDfUP.to_excel(r'Hasil PrediksiUP.xlsx')"
      ],
      "execution_count": null,
      "outputs": []
    },
    {
      "cell_type": "code",
      "metadata": {
        "colab": {
          "base_uri": "https://localhost:8080/"
        },
        "id": "UX13hSsrdjDR",
        "outputId": "cb009ee6-02cb-40a7-b12a-ca2d394a658d"
      },
      "source": [
        "# 4 | MODEL DENGAN 2 FITUR \"NILAI RATA-RATA MAPEL UN\",\"PRESTASI\"\n",
        "#Training with oversampled data\n",
        "classifier_oUP = LogisticRegression()\n",
        "classifier_oUP.fit(XUP_oversample, yUP_oversample)\n",
        "print(classification_report(y_testUP, classifier_oUP.predict(X_testUP)))"
      ],
      "execution_count": null,
      "outputs": [
        {
          "output_type": "stream",
          "text": [
            "              precision    recall  f1-score   support\n",
            "\n",
            "           0       0.95      0.65      0.78       124\n",
            "           1       0.02      0.20      0.04         5\n",
            "\n",
            "    accuracy                           0.64       129\n",
            "   macro avg       0.49      0.43      0.41       129\n",
            "weighted avg       0.92      0.64      0.75       129\n",
            "\n"
          ],
          "name": "stdout"
        }
      ]
    },
    {
      "cell_type": "code",
      "metadata": {
        "colab": {
          "base_uri": "https://localhost:8080/"
        },
        "id": "FlDXJoJCeZtn",
        "outputId": "5c1bb00b-28e8-4d13-f56e-2bc865685c57"
      },
      "source": [
        "# 4 | MODEL DENGAN 2 FITUR \"NILAI RATA-RATA MAPEL UN\",\"PRESTASI\"\n",
        "y_predUP = classifier_oUP.predict(X_testUP)\n",
        "print('Accuracy of logistic regression (FITUR \"NILAI RATA-RATA MAPEL UN\",\"PRESTASI\") classifier on test set: {:.2f}'.format(classifier_oUP.score(X_testUP, y_testUP)))"
      ],
      "execution_count": null,
      "outputs": [
        {
          "output_type": "stream",
          "text": [
            "Accuracy of logistic regression (FITUR \"NILAI RATA-RATA MAPEL UN\",\"PRESTASI\") classifier on test set: 0.64\n"
          ],
          "name": "stdout"
        }
      ]
    },
    {
      "cell_type": "code",
      "metadata": {
        "colab": {
          "base_uri": "https://localhost:8080/",
          "height": 110
        },
        "id": "jBYD0Pxmfj3Q",
        "outputId": "337eeb5f-49d4-45b7-8db7-767c3a14c3ef"
      },
      "source": [
        "# 4 | MODEL DENGAN 2 FITUR \"NILAI RATA-RATA MAPEL UN\",\"PRESTASI\"\n",
        "labelsUP = np.unique(y_testUP)\n",
        "confusion_matrix_UP = confusion_matrix(y_testUP, y_predUP, labels=labelsUP)\n",
        "\n",
        "#print(confusion_matrix)\n",
        "\n",
        "pd.DataFrame(confusion_matrix_UP, index=labelsUP, columns=labelsUP)"
      ],
      "execution_count": null,
      "outputs": [
        {
          "output_type": "execute_result",
          "data": {
            "text/html": [
              "<div>\n",
              "<style scoped>\n",
              "    .dataframe tbody tr th:only-of-type {\n",
              "        vertical-align: middle;\n",
              "    }\n",
              "\n",
              "    .dataframe tbody tr th {\n",
              "        vertical-align: top;\n",
              "    }\n",
              "\n",
              "    .dataframe thead th {\n",
              "        text-align: right;\n",
              "    }\n",
              "</style>\n",
              "<table border=\"1\" class=\"dataframe\">\n",
              "  <thead>\n",
              "    <tr style=\"text-align: right;\">\n",
              "      <th></th>\n",
              "      <th>0</th>\n",
              "      <th>1</th>\n",
              "    </tr>\n",
              "  </thead>\n",
              "  <tbody>\n",
              "    <tr>\n",
              "      <th>0</th>\n",
              "      <td>81</td>\n",
              "      <td>43</td>\n",
              "    </tr>\n",
              "    <tr>\n",
              "      <th>1</th>\n",
              "      <td>4</td>\n",
              "      <td>1</td>\n",
              "    </tr>\n",
              "  </tbody>\n",
              "</table>\n",
              "</div>"
            ],
            "text/plain": [
              "    0   1\n",
              "0  81  43\n",
              "1   4   1"
            ]
          },
          "metadata": {
            "tags": []
          },
          "execution_count": 50
        }
      ]
    },
    {
      "cell_type": "code",
      "metadata": {
        "colab": {
          "base_uri": "https://localhost:8080/"
        },
        "id": "OUPNo1Cnkfm-",
        "outputId": "260d887b-ec5e-4127-a7c7-6eafb97bac21"
      },
      "source": [
        "target_names_UP = ['Tidak Diterima','Diterima']\n",
        "print(classification_report(y_testUP, y_predUP, target_names=target_names_UP))"
      ],
      "execution_count": null,
      "outputs": [
        {
          "output_type": "stream",
          "text": [
            "                precision    recall  f1-score   support\n",
            "\n",
            "Tidak Diterima       0.95      0.65      0.78       124\n",
            "      Diterima       0.02      0.20      0.04         5\n",
            "\n",
            "      accuracy                           0.64       129\n",
            "     macro avg       0.49      0.43      0.41       129\n",
            "  weighted avg       0.92      0.64      0.75       129\n",
            "\n"
          ],
          "name": "stdout"
        }
      ]
    },
    {
      "cell_type": "code",
      "metadata": {
        "colab": {
          "base_uri": "https://localhost:8080/",
          "height": 301
        },
        "id": "JlQEAFgTlhFg",
        "outputId": "d864be12-118d-49ff-b3c8-4eeb8bfd05e8"
      },
      "source": [
        "logit_roc_auc_UP = roc_auc_score(y_testUP, classifier_oUP.predict(X_testUP))\n",
        "fprUP, tprUP, thresholdsUP = roc_curve(y_testUP, classifier_oUP.predict_proba(X_testUP)[:,1])\n",
        "\n",
        "plt.figure()\n",
        "plt.plot(fprUP, tprUP, label='Logistic Regression (area = %0.2f)' % logit_roc_auc_UP)\n",
        "plt.plot([0, 1], [0, 1],'r--')\n",
        "plt.xlim([0.0, 1.0])\n",
        "plt.ylim([0.0, 1.05])\n",
        "plt.xlabel('False Positive Rate')\n",
        "plt.ylabel('True Positive Rate')\n",
        "plt.title('Receiver operating characteristic')\n",
        "plt.legend(loc=\"lower right\")\n",
        "plt.savefig('Log_ROC')\n",
        "plt.show()"
      ],
      "execution_count": null,
      "outputs": [
        {
          "output_type": "display_data",
          "data": {
            "image/png": "[encoded data removed]",
            "text/plain": [
              "<Figure size 432x288 with 1 Axes>"
            ]
          },
          "metadata": {
            "tags": []
          }
        }
      ]
    },
    {
      "cell_type": "code",
      "metadata": {
        "id": "OezX9LbOcsQx"
      },
      "source": [
        ""
      ],
      "execution_count": null,
      "outputs": []
    },
    {
      "cell_type": "code",
      "metadata": {
        "id": "J8dJoFQ9aEFs"
      },
      "source": [
        "# 5 | MODEL DENGAN 2 FITUR \"NILAI RATA-RATA RAPOR\",\"PRESTASI\"\n",
        "\n",
        "#Splitting the data with stratification\n",
        "X_trainRP, X_testRP, y_trainRP, y_testRP = train_test_split(selected_snmptn[[\"NILAI RATA-RATA RAPOR\",\"PRESTASI\"]], \n",
        "                                                    selected_snmptn['STATUS SNMPTN'], test_size = 0.2, stratify = selected_snmptn['STATUS SNMPTN'], random_state = 101)"
      ],
      "execution_count": null,
      "outputs": []
    },
    {
      "cell_type": "code",
      "metadata": {
        "colab": {
          "base_uri": "https://localhost:8080/",
          "height": 464
        },
        "id": "8mrDM0AVb9m5",
        "outputId": "8796f628-072f-4986-fb57-65feb373f6e0"
      },
      "source": [
        "# 5 | MODEL DENGAN 2 FITUR \"NILAI RATA-RATA RAPOR\",\"PRESTASI\"\n",
        "\n",
        "XRP_oversample, yRP_oversample = smote.fit_resample(X_trainRP, y_trainRP)\n",
        "dfRP_oversampler = pd.concat([pd.DataFrame(XRP_oversample, columns = [\"NILAI RATA-RATA RAPOR\",\"PRESTASI\"]), pd.DataFrame(yRP_oversample, columns=['STATUS SNMPTN'])], axis=1)\n",
        "\n",
        "sns.countplot(dfRP_oversampler['STATUS SNMPTN'])\n",
        "jumlahRP = dfRP_oversampler['STATUS SNMPTN'].count()\n",
        "print(jumlahRP/2)"
      ],
      "execution_count": null,
      "outputs": [
        {
          "output_type": "stream",
          "text": [
            "490.0\n"
          ],
          "name": "stdout"
        },
        {
          "output_type": "stream",
          "text": [
            "/usr/local/lib/python3.7/dist-packages/sklearn/utils/deprecation.py:87: FutureWarning:\n",
            "\n",
            "Function safe_indexing is deprecated; safe_indexing is deprecated in version 0.22 and will be removed in version 0.24.\n",
            "\n",
            "/usr/local/lib/python3.7/dist-packages/seaborn/_decorators.py:43: FutureWarning:\n",
            "\n",
            "Pass the following variable as a keyword arg: x. From version 0.12, the only valid positional argument will be `data`, and passing other arguments without an explicit keyword will result in an error or misinterpretation.\n",
            "\n"
          ],
          "name": "stderr"
        },
        {
          "output_type": "display_data",
          "data": {
            "image/png": "[encoded data removed]",
            "text/plain": [
              "<Figure size 432x288 with 1 Axes>"
            ]
          },
          "metadata": {
            "tags": []
          }
        }
      ]
    },
    {
      "cell_type": "code",
      "metadata": {
        "colab": {
          "base_uri": "https://localhost:8080/"
        },
        "id": "XDimeeHmnNUQ",
        "outputId": "b5c5bb8e-ef5f-4ec0-d1b8-12e5af7f6309"
      },
      "source": [
        "#membuat model logit dengan variabel y dan X dan fit data\n",
        "logit_model_RP=sm.Logit(yRP_oversample, XRP_oversample)\n",
        "result_RP=logit_model_RP.fit()\n",
        "\n",
        "#mencetak hasil model \n",
        "print(result_RP.summary2())"
      ],
      "execution_count": null,
      "outputs": [
        {
          "output_type": "stream",
          "text": [
            "Optimization terminated successfully.\n",
            "         Current function value: 0.676873\n",
            "         Iterations 7\n",
            "                         Results: Logit\n",
            "=================================================================\n",
            "Model:              Logit            Pseudo R-squared: 0.023     \n",
            "Dependent Variable: y                AIC:              1330.6706 \n",
            "Date:               2021-06-18 09:02 BIC:              1340.4457 \n",
            "No. Observations:   980              Log-Likelihood:   -663.34   \n",
            "Df Model:           1                LL-Null:          -679.28   \n",
            "Df Residuals:       978              LLR p-value:      1.6250e-08\n",
            "Converged:          1.0000           Scale:            1.0000    \n",
            "No. Iterations:     7.0000                                       \n",
            "--------------------------------------------------------------------\n",
            "       Coef.     Std.Err.       z       P>|z|      [0.025     0.975]\n",
            "--------------------------------------------------------------------\n",
            "x1     0.0014      0.0008     1.7830    0.0746    -0.0001     0.0029\n",
            "x2    -0.2890      0.0750    -3.8510    0.0001    -0.4360    -0.1419\n",
            "=================================================================\n",
            "\n"
          ],
          "name": "stdout"
        }
      ]
    },
    {
      "cell_type": "code",
      "metadata": {
        "colab": {
          "base_uri": "https://localhost:8080/"
        },
        "id": "XlYvuHp6YSsb",
        "outputId": "fd7cb1e8-0e27-4f03-ab34-1b8cb5e69a9e"
      },
      "source": [
        "dominance_classification=Dominance(data=dfRP_oversampler,target='STATUS SNMPTN',top_k = None,objective=1,pseudo_r2=\"nagelkerke\")\n"
      ],
      "execution_count": null,
      "outputs": [
        {
          "output_type": "stream",
          "text": [
            "Selecting 2 Best Predictors for the Model\n",
            "Selected Predictors :  ['NILAI RATA-RATA RAPOR', 'PRESTASI']\n",
            "\n",
            "********************  R-Squared of Complete Model :  ********************\n",
            "R Squared : 0.29466555644991865\n",
            "\n"
          ],
          "name": "stdout"
        }
      ]
    },
    {
      "cell_type": "code",
      "metadata": {
        "colab": {
          "base_uri": "https://localhost:8080/"
        },
        "id": "yRxgh7ydXKlz",
        "outputId": "5b3af3ca-fe18-42db-e402-2d98943ffba4"
      },
      "source": [
        "print(np.exp(result_RP.params))"
      ],
      "execution_count": null,
      "outputs": [
        {
          "output_type": "stream",
          "text": [
            "[1.00137647 0.74904053]\n"
          ],
          "name": "stdout"
        }
      ]
    },
    {
      "cell_type": "code",
      "metadata": {
        "id": "iW5A0VSKYS40",
        "colab": {
          "base_uri": "https://localhost:8080/",
          "height": 221
        },
        "outputId": "08d44f63-c36c-4cd8-8662-d4bd961e00be"
      },
      "source": [
        "combineRP= classification_report(y_testRP, y_predRP, target_names=target_names_RP,output_dict=True)\n",
        "dfREPORTRP = pd.DataFrame(combineRP).transpose()\n",
        "dfREPORTRP.to_excel(r'Hasil ReportRP.xlsx')\n",
        "selected_X_testRP = X_testRP.reset_index()\n"
      ],
      "execution_count": null,
      "outputs": [
        {
          "output_type": "error",
          "ename": "NameError",
          "evalue": "ignored",
          "traceback": [
            "\u001b[0;31m---------------------------------------------------------------------------\u001b[0m",
            "\u001b[0;31mNameError\u001b[0m                                 Traceback (most recent call last)",
            "\u001b[0;32m<ipython-input-43-5eb5a2437b05>\u001b[0m in \u001b[0;36m<module>\u001b[0;34m()\u001b[0m\n\u001b[0;32m----> 1\u001b[0;31m \u001b[0mcombineRP\u001b[0m\u001b[0;34m=\u001b[0m \u001b[0mclassification_report\u001b[0m\u001b[0;34m(\u001b[0m\u001b[0my_testRP\u001b[0m\u001b[0;34m,\u001b[0m \u001b[0my_predRP\u001b[0m\u001b[0;34m,\u001b[0m \u001b[0mtarget_names\u001b[0m\u001b[0;34m=\u001b[0m\u001b[0mtarget_names_RP\u001b[0m\u001b[0;34m,\u001b[0m\u001b[0moutput_dict\u001b[0m\u001b[0;34m=\u001b[0m\u001b[0;32mTrue\u001b[0m\u001b[0;34m)\u001b[0m\u001b[0;34m\u001b[0m\u001b[0;34m\u001b[0m\u001b[0m\n\u001b[0m\u001b[1;32m      2\u001b[0m \u001b[0mdfREPORTRP\u001b[0m \u001b[0;34m=\u001b[0m \u001b[0mpd\u001b[0m\u001b[0;34m.\u001b[0m\u001b[0mDataFrame\u001b[0m\u001b[0;34m(\u001b[0m\u001b[0mcombineRP\u001b[0m\u001b[0;34m)\u001b[0m\u001b[0;34m.\u001b[0m\u001b[0mtranspose\u001b[0m\u001b[0;34m(\u001b[0m\u001b[0;34m)\u001b[0m\u001b[0;34m\u001b[0m\u001b[0;34m\u001b[0m\u001b[0m\n\u001b[1;32m      3\u001b[0m \u001b[0mdfREPORTRP\u001b[0m\u001b[0;34m.\u001b[0m\u001b[0mto_excel\u001b[0m\u001b[0;34m(\u001b[0m\u001b[0;34mr'Hasil ReportRP.xlsx'\u001b[0m\u001b[0;34m)\u001b[0m\u001b[0;34m\u001b[0m\u001b[0;34m\u001b[0m\u001b[0m\n\u001b[1;32m      4\u001b[0m \u001b[0mselected_X_testRP\u001b[0m \u001b[0;34m=\u001b[0m \u001b[0mX_testRP\u001b[0m\u001b[0;34m.\u001b[0m\u001b[0mreset_index\u001b[0m\u001b[0;34m(\u001b[0m\u001b[0;34m)\u001b[0m\u001b[0;34m\u001b[0m\u001b[0;34m\u001b[0m\u001b[0m\n",
            "\u001b[0;31mNameError\u001b[0m: name 'y_predRP' is not defined"
          ]
        }
      ]
    },
    {
      "cell_type": "code",
      "metadata": {
        "id": "Ltenm2BoYTFN"
      },
      "source": [
        "class_predRP = pd.DataFrame(y_predRP)\n",
        "class_predRP.columns = ['class_predicted']\n",
        "#print(classification_report(y_testRU, classifier_oRU.predict(X_testRU)))\n",
        "y_testRP_reset = y_testRP.reset_index()\n",
        "y_testRP_reset =y_testRP_reset.drop(['index'], axis = 1)\n",
        "class_testRP = pd.DataFrame(y_testRP_reset)\n",
        "class_testRP.columns = ['class_test']\n",
        "combinedDfRP = pd.concat([selected_X_testRP, class_testRP,class_predRP], axis = 1).reset_index()\n",
        "combinedDfRP = combinedDfRP.drop(['index', 'level_0'], axis = 1)\n",
        "combinedDfRP.head(10)\n",
        "combinedDfRP.to_excel(r'Hasil PrediksiRP.xlsx')"
      ],
      "execution_count": null,
      "outputs": []
    },
    {
      "cell_type": "code",
      "metadata": {
        "colab": {
          "base_uri": "https://localhost:8080/"
        },
        "id": "Xb80Xnt_drp5",
        "outputId": "3bcee1ca-1318-4da9-b467-62554d9353af"
      },
      "source": [
        "# 5 | MODEL DENGAN 2 FITUR \"NILAI RATA-RATA RAPOR\",\"PRESTASI\"\n",
        "\n",
        "#Training with oversampled data\n",
        "classifier_oRP = LogisticRegression()\n",
        "classifier_oRP.fit(XRP_oversample, yRP_oversample)\n",
        "print(classification_report(y_testRP, classifier_oRP.predict(X_testRP)))"
      ],
      "execution_count": null,
      "outputs": [
        {
          "output_type": "stream",
          "text": [
            "              precision    recall  f1-score   support\n",
            "\n",
            "           0       0.98      0.67      0.79       124\n",
            "           1       0.07      0.60      0.12         5\n",
            "\n",
            "    accuracy                           0.67       129\n",
            "   macro avg       0.52      0.63      0.46       129\n",
            "weighted avg       0.94      0.67      0.77       129\n",
            "\n"
          ],
          "name": "stdout"
        }
      ]
    },
    {
      "cell_type": "code",
      "metadata": {
        "colab": {
          "base_uri": "https://localhost:8080/"
        },
        "id": "kN9V3uJ1elfV",
        "outputId": "99d2463e-a4a3-4191-84e5-1bcab889eff1"
      },
      "source": [
        "# 5 | MODEL DENGAN 2 FITUR \"NILAI RATA-RATA RAPOR\",\"PRESTASI\"\n",
        "y_predRP = classifier_oRP.predict(X_testRP)\n",
        "print('Accuracy of logistic regression (FITUR \"NILAI RATA-RATA RAPOR\",\"PRESTASI\") classifier on test set: {:.2f}'.format(classifier_oRP.score(X_testRP, y_testRP)))"
      ],
      "execution_count": null,
      "outputs": [
        {
          "output_type": "stream",
          "text": [
            "Accuracy of logistic regression (FITUR \"NILAI RATA-RATA RAPOR\",\"PRESTASI\") classifier on test set: 0.67\n"
          ],
          "name": "stdout"
        }
      ]
    },
    {
      "cell_type": "code",
      "metadata": {
        "colab": {
          "base_uri": "https://localhost:8080/",
          "height": 110
        },
        "id": "_FbTSFKWfvlj",
        "outputId": "8ec258d5-7d88-4967-cbbe-56fa6d7b4388"
      },
      "source": [
        "# 5 | MODEL DENGAN 2 FITUR \"NILAI RATA-RATA RAPOR\",\"PRESTASI\"\n",
        "labelsRP = np.unique(y_testRP)\n",
        "confusion_matrix_RP = confusion_matrix(y_testRP, y_predRP, labels=labelsRP)\n",
        "\n",
        "#print(confusion_matrix)\n",
        "\n",
        "pd.DataFrame(confusion_matrix_RP, index=labelsRP, columns=labelsRP)"
      ],
      "execution_count": null,
      "outputs": [
        {
          "output_type": "execute_result",
          "data": {
            "text/html": [
              "<div>\n",
              "<style scoped>\n",
              "    .dataframe tbody tr th:only-of-type {\n",
              "        vertical-align: middle;\n",
              "    }\n",
              "\n",
              "    .dataframe tbody tr th {\n",
              "        vertical-align: top;\n",
              "    }\n",
              "\n",
              "    .dataframe thead th {\n",
              "        text-align: right;\n",
              "    }\n",
              "</style>\n",
              "<table border=\"1\" class=\"dataframe\">\n",
              "  <thead>\n",
              "    <tr style=\"text-align: right;\">\n",
              "      <th></th>\n",
              "      <th>0</th>\n",
              "      <th>1</th>\n",
              "    </tr>\n",
              "  </thead>\n",
              "  <tbody>\n",
              "    <tr>\n",
              "      <th>0</th>\n",
              "      <td>83</td>\n",
              "      <td>41</td>\n",
              "    </tr>\n",
              "    <tr>\n",
              "      <th>1</th>\n",
              "      <td>2</td>\n",
              "      <td>3</td>\n",
              "    </tr>\n",
              "  </tbody>\n",
              "</table>\n",
              "</div>"
            ],
            "text/plain": [
              "    0   1\n",
              "0  83  41\n",
              "1   2   3"
            ]
          },
          "metadata": {
            "tags": []
          },
          "execution_count": 61
        }
      ]
    },
    {
      "cell_type": "code",
      "metadata": {
        "colab": {
          "base_uri": "https://localhost:8080/"
        },
        "id": "vlASiA_yknoh",
        "outputId": "9488b0c8-55ca-4cd4-f451-e9a4aa4f82e7"
      },
      "source": [
        "target_names_RP = ['Tidak Diterima','Diterima']\n",
        "print(classification_report(y_testRP, y_predRP, target_names=target_names_RP))\n",
        "\n",
        "jumlahRP = list(y_testRP).count(0)\n",
        "print(jumlahRP)\n"
      ],
      "execution_count": null,
      "outputs": [
        {
          "output_type": "stream",
          "text": [
            "                precision    recall  f1-score   support\n",
            "\n",
            "Tidak Diterima       0.98      0.67      0.79       124\n",
            "      Diterima       0.07      0.60      0.12         5\n",
            "\n",
            "      accuracy                           0.67       129\n",
            "     macro avg       0.52      0.63      0.46       129\n",
            "  weighted avg       0.94      0.67      0.77       129\n",
            "\n",
            "124\n"
          ],
          "name": "stdout"
        }
      ]
    },
    {
      "cell_type": "code",
      "metadata": {
        "colab": {
          "base_uri": "https://localhost:8080/",
          "height": 301
        },
        "id": "cf39PSdBlvak",
        "outputId": "96425174-d396-4636-ba1a-2641c062709d"
      },
      "source": [
        "logit_roc_auc_RP = roc_auc_score(y_testRP, classifier_oRP.predict(X_testRP))\n",
        "fprRP, tprRP, thresholdsRP = roc_curve(y_testRP, classifier_oRP.predict_proba(X_testRP)[:,1])\n",
        "\n",
        "plt.figure()\n",
        "plt.plot(fprRP, tprRP, label='Logistic Regression (area = %0.2f)' % logit_roc_auc_RP)\n",
        "plt.plot([0, 1], [0, 1],'r--')\n",
        "plt.xlim([0.0, 1.0])\n",
        "plt.ylim([0.0, 1.05])\n",
        "plt.xlabel('False Positive Rate')\n",
        "plt.ylabel('True Positive Rate')\n",
        "plt.title('Receiver operating characteristic')\n",
        "plt.legend(loc=\"lower right\")\n",
        "plt.savefig('Log_ROC')\n",
        "plt.show()"
      ],
      "execution_count": null,
      "outputs": [
        {
          "output_type": "display_data",
          "data": {
            "image/png": "[encoded data removed]",
            "text/plain": [
              "<Figure size 432x288 with 1 Axes>"
            ]
          },
          "metadata": {
            "tags": []
          }
        }
      ]
    },
    {
      "cell_type": "code",
      "metadata": {
        "id": "dsu-o1KfctCE"
      },
      "source": [
        ""
      ],
      "execution_count": null,
      "outputs": []
    },
    {
      "cell_type": "code",
      "metadata": {
        "id": "69fsoWtdOZV4",
        "colab": {
          "base_uri": "https://localhost:8080/"
        },
        "outputId": "ddcbfd58-baf6-479e-d9fa-46f1ee474adb"
      },
      "source": [
        "\n",
        "X_train, X_test, y_train, y_test = train_test_split(selected_snmptn[[\"NILAI RATA-RATA RAPOR\",\"NILAI RATA-RATA MAPEL UN\",\"PRESTASI\"]], \n",
        "                                                    selected_snmptn['STATUS SNMPTN'], test_size = 0.2, stratify = selected_snmptn['STATUS SNMPTN'], random_state = 101)\n",
        "X_oversample, y_oversample = smote.fit_resample(X_train, y_train)\n",
        "df_oversampler = pd.concat([pd.DataFrame(X_oversample, columns = [\"NILAI RATA-RATA RAPOR\",\"NILAI RATA-RATA MAPEL UN\",\"PRESTASI\"]), pd.DataFrame(y_oversample, columns=['STATUS SNMPTN'])], axis=1)\n"
      ],
      "execution_count": null,
      "outputs": [
        {
          "output_type": "stream",
          "text": [
            "/usr/local/lib/python3.7/dist-packages/sklearn/utils/deprecation.py:87: FutureWarning: Function safe_indexing is deprecated; safe_indexing is deprecated in version 0.22 and will be removed in version 0.24.\n",
            "  warnings.warn(msg, category=FutureWarning)\n"
          ],
          "name": "stderr"
        }
      ]
    },
    {
      "cell_type": "code",
      "metadata": {
        "colab": {
          "base_uri": "https://localhost:8080/",
          "height": 445
        },
        "id": "187fHk5U0Q00",
        "outputId": "32bd45e6-e6d8-4082-9cfc-2a4c5127205e"
      },
      "source": [
        "####3333\n",
        "from sklearn.linear_model import LogisticRegression\n",
        "from sklearn import metrics\n",
        "\n",
        "X_train, X_test, y_train, y_test = train_test_split(selected_snmptn[[\"NILAI RATA-RATA RAPOR\",\"NILAI RATA-RATA MAPEL UN\",\"PRESTASI\"]], \n",
        "                                                    selected_snmptn['STATUS SNMPTN'], test_size = 0.2, stratify = selected_snmptn['STATUS SNMPTN'], random_state = 101)\n",
        "X_oversample, y_oversample = smote.fit_resample(X_train, y_train)\n",
        "df_oversampler = pd.concat([pd.DataFrame(X_oversample, columns = [\"NILAI RATA-RATA RAPOR\",\"NILAI RATA-RATA MAPEL UN\",\"PRESTASI\"]), pd.DataFrame(y_oversample, columns=['STATUS SNMPTN'])], axis=1)\n",
        "\n",
        "#logreg = LogisticRegression()\n",
        "#logreg.fit(X_train, y_train)\n",
        "classifier_o = LogisticRegression()\n",
        "y_pred = classifier_o.predict(X_test)\n",
        "print('Accuracy of logistic regression classifier on test set: {:.2f}'.format(classifier_o.score(X_test, y_test)))"
      ],
      "execution_count": null,
      "outputs": [
        {
          "output_type": "stream",
          "text": [
            "/usr/local/lib/python3.7/dist-packages/sklearn/utils/deprecation.py:87: FutureWarning: Function safe_indexing is deprecated; safe_indexing is deprecated in version 0.22 and will be removed in version 0.24.\n",
            "  warnings.warn(msg, category=FutureWarning)\n"
          ],
          "name": "stderr"
        },
        {
          "output_type": "error",
          "ename": "NotFittedError",
          "evalue": "ignored",
          "traceback": [
            "\u001b[0;31m---------------------------------------------------------------------------\u001b[0m",
            "\u001b[0;31mNotFittedError\u001b[0m                            Traceback (most recent call last)",
            "\u001b[0;32m<ipython-input-42-d3353282c274>\u001b[0m in \u001b[0;36m<module>\u001b[0;34m()\u001b[0m\n\u001b[1;32m     11\u001b[0m \u001b[0;31m#logreg.fit(X_train, y_train)\u001b[0m\u001b[0;34m\u001b[0m\u001b[0;34m\u001b[0m\u001b[0;34m\u001b[0m\u001b[0m\n\u001b[1;32m     12\u001b[0m \u001b[0mclassifier_o\u001b[0m \u001b[0;34m=\u001b[0m \u001b[0mLogisticRegression\u001b[0m\u001b[0;34m(\u001b[0m\u001b[0;34m)\u001b[0m\u001b[0;34m\u001b[0m\u001b[0;34m\u001b[0m\u001b[0m\n\u001b[0;32m---> 13\u001b[0;31m \u001b[0my_pred\u001b[0m \u001b[0;34m=\u001b[0m \u001b[0mclassifier_o\u001b[0m\u001b[0;34m.\u001b[0m\u001b[0mpredict\u001b[0m\u001b[0;34m(\u001b[0m\u001b[0mX_test\u001b[0m\u001b[0;34m)\u001b[0m\u001b[0;34m\u001b[0m\u001b[0;34m\u001b[0m\u001b[0m\n\u001b[0m\u001b[1;32m     14\u001b[0m \u001b[0mprint\u001b[0m\u001b[0;34m(\u001b[0m\u001b[0;34m'Accuracy of logistic regression classifier on test set: {:.2f}'\u001b[0m\u001b[0;34m.\u001b[0m\u001b[0mformat\u001b[0m\u001b[0;34m(\u001b[0m\u001b[0mclassifier_o\u001b[0m\u001b[0;34m.\u001b[0m\u001b[0mscore\u001b[0m\u001b[0;34m(\u001b[0m\u001b[0mX_test\u001b[0m\u001b[0;34m,\u001b[0m \u001b[0my_test\u001b[0m\u001b[0;34m)\u001b[0m\u001b[0;34m)\u001b[0m\u001b[0;34m)\u001b[0m\u001b[0;34m\u001b[0m\u001b[0;34m\u001b[0m\u001b[0m\n",
            "\u001b[0;32m/usr/local/lib/python3.7/dist-packages/sklearn/linear_model/_base.py\u001b[0m in \u001b[0;36mpredict\u001b[0;34m(self, X)\u001b[0m\n\u001b[1;32m    291\u001b[0m             \u001b[0mPredicted\u001b[0m \u001b[0;32mclass\u001b[0m \u001b[0mlabel\u001b[0m \u001b[0mper\u001b[0m \u001b[0msample\u001b[0m\u001b[0;34m.\u001b[0m\u001b[0;34m\u001b[0m\u001b[0;34m\u001b[0m\u001b[0m\n\u001b[1;32m    292\u001b[0m         \"\"\"\n\u001b[0;32m--> 293\u001b[0;31m         \u001b[0mscores\u001b[0m \u001b[0;34m=\u001b[0m \u001b[0mself\u001b[0m\u001b[0;34m.\u001b[0m\u001b[0mdecision_function\u001b[0m\u001b[0;34m(\u001b[0m\u001b[0mX\u001b[0m\u001b[0;34m)\u001b[0m\u001b[0;34m\u001b[0m\u001b[0;34m\u001b[0m\u001b[0m\n\u001b[0m\u001b[1;32m    294\u001b[0m         \u001b[0;32mif\u001b[0m \u001b[0mlen\u001b[0m\u001b[0;34m(\u001b[0m\u001b[0mscores\u001b[0m\u001b[0;34m.\u001b[0m\u001b[0mshape\u001b[0m\u001b[0;34m)\u001b[0m \u001b[0;34m==\u001b[0m \u001b[0;36m1\u001b[0m\u001b[0;34m:\u001b[0m\u001b[0;34m\u001b[0m\u001b[0;34m\u001b[0m\u001b[0m\n\u001b[1;32m    295\u001b[0m             \u001b[0mindices\u001b[0m \u001b[0;34m=\u001b[0m \u001b[0;34m(\u001b[0m\u001b[0mscores\u001b[0m \u001b[0;34m>\u001b[0m \u001b[0;36m0\u001b[0m\u001b[0;34m)\u001b[0m\u001b[0;34m.\u001b[0m\u001b[0mastype\u001b[0m\u001b[0;34m(\u001b[0m\u001b[0mnp\u001b[0m\u001b[0;34m.\u001b[0m\u001b[0mint\u001b[0m\u001b[0;34m)\u001b[0m\u001b[0;34m\u001b[0m\u001b[0;34m\u001b[0m\u001b[0m\n",
            "\u001b[0;32m/usr/local/lib/python3.7/dist-packages/sklearn/linear_model/_base.py\u001b[0m in \u001b[0;36mdecision_function\u001b[0;34m(self, X)\u001b[0m\n\u001b[1;32m    264\u001b[0m             \u001b[0;32mclass\u001b[0m \u001b[0mwould\u001b[0m \u001b[0mbe\u001b[0m \u001b[0mpredicted\u001b[0m\u001b[0;34m.\u001b[0m\u001b[0;34m\u001b[0m\u001b[0;34m\u001b[0m\u001b[0m\n\u001b[1;32m    265\u001b[0m         \"\"\"\n\u001b[0;32m--> 266\u001b[0;31m         \u001b[0mcheck_is_fitted\u001b[0m\u001b[0;34m(\u001b[0m\u001b[0mself\u001b[0m\u001b[0;34m)\u001b[0m\u001b[0;34m\u001b[0m\u001b[0;34m\u001b[0m\u001b[0m\n\u001b[0m\u001b[1;32m    267\u001b[0m \u001b[0;34m\u001b[0m\u001b[0m\n\u001b[1;32m    268\u001b[0m         \u001b[0mX\u001b[0m \u001b[0;34m=\u001b[0m \u001b[0mcheck_array\u001b[0m\u001b[0;34m(\u001b[0m\u001b[0mX\u001b[0m\u001b[0;34m,\u001b[0m \u001b[0maccept_sparse\u001b[0m\u001b[0;34m=\u001b[0m\u001b[0;34m'csr'\u001b[0m\u001b[0;34m)\u001b[0m\u001b[0;34m\u001b[0m\u001b[0;34m\u001b[0m\u001b[0m\n",
            "\u001b[0;32m/usr/local/lib/python3.7/dist-packages/sklearn/utils/validation.py\u001b[0m in \u001b[0;36mcheck_is_fitted\u001b[0;34m(estimator, attributes, msg, all_or_any)\u001b[0m\n\u001b[1;32m    965\u001b[0m \u001b[0;34m\u001b[0m\u001b[0m\n\u001b[1;32m    966\u001b[0m     \u001b[0;32mif\u001b[0m \u001b[0;32mnot\u001b[0m \u001b[0mattrs\u001b[0m\u001b[0;34m:\u001b[0m\u001b[0;34m\u001b[0m\u001b[0;34m\u001b[0m\u001b[0m\n\u001b[0;32m--> 967\u001b[0;31m         \u001b[0;32mraise\u001b[0m \u001b[0mNotFittedError\u001b[0m\u001b[0;34m(\u001b[0m\u001b[0mmsg\u001b[0m \u001b[0;34m%\u001b[0m \u001b[0;34m{\u001b[0m\u001b[0;34m'name'\u001b[0m\u001b[0;34m:\u001b[0m \u001b[0mtype\u001b[0m\u001b[0;34m(\u001b[0m\u001b[0mestimator\u001b[0m\u001b[0;34m)\u001b[0m\u001b[0;34m.\u001b[0m\u001b[0m__name__\u001b[0m\u001b[0;34m}\u001b[0m\u001b[0;34m)\u001b[0m\u001b[0;34m\u001b[0m\u001b[0;34m\u001b[0m\u001b[0m\n\u001b[0m\u001b[1;32m    968\u001b[0m \u001b[0;34m\u001b[0m\u001b[0m\n\u001b[1;32m    969\u001b[0m \u001b[0;34m\u001b[0m\u001b[0m\n",
            "\u001b[0;31mNotFittedError\u001b[0m: This LogisticRegression instance is not fitted yet. Call 'fit' with appropriate arguments before using this estimator."
          ]
        }
      ]
    },
    {
      "cell_type": "code",
      "metadata": {
        "id": "5jyTiGUm0dLP"
      },
      "source": [
        "#######3333\n",
        "from sklearn.metrics import confusion_matrix\n",
        "labels = np.unique(y_test)\n",
        "confusion_matrix = confusion_matrix(y_test, y_pred, labels=labels)\n",
        "\n",
        "#print(confusion_matrix)\n",
        "\n",
        "pd.DataFrame(confusion_matrix, index=labels, columns=labels)"
      ],
      "execution_count": null,
      "outputs": []
    },
    {
      "cell_type": "code",
      "metadata": {
        "id": "wAn-ss6B0nnG"
      },
      "source": [
        "from sklearn.metrics import classification_report\n",
        "target_names = ['Tidak Diterima','Diterima']\n",
        "print(classification_report(y_test, y_pred, target_names=target_names))"
      ],
      "execution_count": null,
      "outputs": []
    },
    {
      "cell_type": "code",
      "metadata": {
        "id": "Jjr0bOQZ0oew"
      },
      "source": [
        "from sklearn.metrics import roc_auc_score\n",
        "from sklearn.metrics import roc_curve\n",
        "\n",
        "logit_roc_auc = roc_auc_score(y_test, classifier_o.predict(X_test))\n",
        "fpr, tpr, thresholds = roc_curve(y_test, classifier_o.predict_proba(X_test)[:,1])\n",
        "\n",
        "plt.figure()\n",
        "plt.plot(fpr, tpr, label='Logistic Regression (area = %0.2f)' % logit_roc_auc)\n",
        "plt.plot([0, 1], [0, 1],'r--')\n",
        "plt.xlim([0.0, 1.0])\n",
        "plt.ylim([0.0, 1.05])\n",
        "plt.xlabel('False Positive Rate')\n",
        "plt.ylabel('True Positive Rate')\n",
        "plt.title('Receiver operating characteristic')\n",
        "plt.legend(loc=\"lower right\")\n",
        "plt.savefig('Log_ROC')\n",
        "plt.show()"
      ],
      "execution_count": null,
      "outputs": []
    },
    {
      "cell_type": "code",
      "metadata": {
        "id": "fD9bRI9SxvcE"
      },
      "source": [
        "#import library \n",
        "import statsmodels.api as sm\n",
        "\n",
        "#membuat model logit dengan variabel y dan X dan fit data\n",
        "logit_model=sm.Logit(y_oversample, X_oversample)\n",
        "result=logit_model.fit()\n",
        "\n",
        "#mencetak hasil model \n",
        "print(result.summary2())\n"
      ],
      "execution_count": null,
      "outputs": []
    },
    {
      "cell_type": "code",
      "metadata": {
        "id": "PjwVtDj1yVhd"
      },
      "source": [
        "#import logisticregression\n",
        "from sklearn.linear_model import LogisticRegression\n",
        "from sklearn import metrics\n",
        "\n",
        "X_train, X_test, y_train, y_test = train_test_split(X_oversample, y_oversample, test_size=0.3, random_state=0)\n",
        "logreg = LogisticRegression()\n",
        "logreg.fit(X_train, y_train)"
      ],
      "execution_count": null,
      "outputs": []
    },
    {
      "cell_type": "code",
      "metadata": {
        "id": "P0EefUchyh-z"
      },
      "source": [
        "y_pred = logreg.predict(X_test)\n",
        "print('Accuracy of logistic regression classifier on test set: {:.2f}'.format(logreg.score(X_test, y_test)))"
      ],
      "execution_count": null,
      "outputs": []
    },
    {
      "cell_type": "code",
      "metadata": {
        "id": "wytPYq8xhFbV"
      },
      "source": [
        "prediction = list(map(round, y_pred))\n",
        "#selected_snmptn['STATUS SNMPTN'] = selected_snmptn['STATUS SNMPTN'].map({'DITERIMA': 1, 'TIDAK DITERIMA': 0})\n",
        "\n",
        "print('nilaisli:', list(y_test))\n",
        "print('prediksi:', prediction)\n",
        "\n"
      ],
      "execution_count": null,
      "outputs": []
    },
    {
      "cell_type": "code",
      "metadata": {
        "id": "Iupp0-4KypjR"
      },
      "source": [
        "from sklearn.metrics import confusion_matrix\n",
        "labels = np.unique(y_test)\n",
        "confusion_matrix = confusion_matrix(y_test, y_pred, labels=labels)\n",
        "\n",
        "#print(confusion_matrix)\n",
        "\n",
        "pd.DataFrame(confusion_matrix, index=labels, columns=labels)\n",
        "\n"
      ],
      "execution_count": null,
      "outputs": []
    },
    {
      "cell_type": "code",
      "metadata": {
        "id": "aNHwUt8Ryyp8"
      },
      "source": [
        "from sklearn.metrics import classification_report\n",
        "target_names = ['Tidak Diterima','Diterima']\n",
        "print(classification_report(y_test, y_pred, target_names=target_names))\n"
      ],
      "execution_count": null,
      "outputs": []
    },
    {
      "cell_type": "code",
      "metadata": {
        "id": "nzqo7xuUzSCH"
      },
      "source": [
        "from sklearn.metrics import roc_auc_score\n",
        "from sklearn.metrics import roc_curve\n",
        "\n",
        "logit_roc_auc = roc_auc_score(y_test, logreg.predict(X_test))\n",
        "fpr, tpr, thresholds = roc_curve(y_test, logreg.predict_proba(X_test)[:,1])\n",
        "\n",
        "plt.figure()\n",
        "plt.plot(fpr, tpr, label='Logistic Regression (area = %0.2f)' % logit_roc_auc)\n",
        "plt.plot([0, 1], [0, 1],'r--')\n",
        "plt.xlim([0.0, 1.0])\n",
        "plt.ylim([0.0, 1.05])\n",
        "plt.xlabel('False Positive Rate')\n",
        "plt.ylabel('True Positive Rate')\n",
        "plt.title('Receiver operating characteristic')\n",
        "plt.legend(loc=\"lower right\")\n",
        "plt.savefig('Log_ROC')\n",
        "plt.show()"
      ],
      "execution_count": null,
      "outputs": []
    },
    {
      "cell_type": "code",
      "metadata": {
        "id": "huXc0yp4nssG"
      },
      "source": [
        "#output = pd.DataFrame(data = {\"id\":X_test[\"NILAI RATA-RATA MAPEL UN\"],\"Prediction\":y_pred}) \n",
        "\n",
        "#output.to_csv(path_or_buf=\"'/content/drive/MyDrive/[Bimbingan Tesis]-NI MADE TARANITA ARIANI/Dokumen/results.csv\",index=False,quoting=3,sep=';')\n",
        "\n",
        "res = pd.DataFrame(prediction)\n",
        "res.index = X_test.index # its important for comparison\n",
        "res.columns = [\"prediction\"]\n",
        "res.to_csv(\"prediction_results.csv\")"
      ],
      "execution_count": null,
      "outputs": []
    },
    {
      "cell_type": "code",
      "metadata": {
        "id": "mMgxrKbnasPS"
      },
      "source": [
        ""
      ],
      "execution_count": null,
      "outputs": []
    },
    {
      "cell_type": "markdown",
      "metadata": {
        "id": "UtZP-n9Jawkf"
      },
      "source": [
        "# Bagian Baru"
      ]
    },
    {
      "cell_type": "code",
      "metadata": {
        "id": "INYkH1PKI-Up"
      },
      "source": [
        "#####1111111111111111##############\n",
        "\n",
        "#menyimpan nilai variabel independen ke dalam 'X'dan dependen ke dalam 'y'\n",
        "\n",
        "X = selected_snmptn.loc[:, selected_snmptn.columns != 'STATUS SNMPTN']\n",
        "y = selected_snmptn.loc[:, selected_snmptn.columns == 'STATUS SNMPTN']\n",
        "\n",
        "#import library smote\n",
        "from imblearn.over_sampling import SMOTE\n",
        "\n",
        "#smote mengontrol randomization algoritma dengan nilai 0\n",
        "OS = SMOTE(random_state=1)\n",
        "\n",
        "#membuat variabel train dan tes untuk X dan y dengan ukuran data uji sebesar 0,3\n",
        "X_train, X_test, y_train, y_test = train_test_split(X, y, test_size=0.2, random_state=1)\n",
        "\n",
        "#inisiasi var columns dengan kolomnya X train\n",
        "columns = X_train.columns\n",
        "\n",
        "#inisiasi OS_X, OS_Y dengan x dan y train dengan SMOTE fungsi fit sample\n",
        "OS_X, OS_Y = OS.fit_sample(X_train, y_train)\n",
        "\n",
        "#membuat dataframe OS_X dengan data dari train OS_X dengan kolom dari columns\n",
        "OS_X = pd.DataFrame(data= OS_X, columns=columns)\n",
        "\n",
        "#membuat dataframe OS_Y dengan data dari train OS_y dengan kolom dari 'y' yaitu \n",
        "#'status_snmptn'\n",
        "OS_Y = pd.DataFrame(data= OS_Y, columns=['y'])\n",
        "\n",
        "print(\"length of oversampled data is \",len(OS_X))\n",
        "\n",
        "print(\"Number of TIDAK DITERIMA in oversampled data\",len(OS_Y[OS_Y['y']==0]))\n",
        "print(\"Number of DITERIMA\",len(OS_Y[OS_Y['y']==1]))\n",
        "print(\"Proportion of TIDAK DITERIMA data in oversampled data is \",len(OS_Y[OS_Y['y']==0])/len(OS_X))\n",
        "print(\"Proportion of DITERIMA data in oversampled data is \",len(OS_Y[OS_Y['y']==1])/len(OS_X))"
      ],
      "execution_count": null,
      "outputs": []
    },
    {
      "cell_type": "code",
      "metadata": {
        "id": "z7DfzoFR2Xv9"
      },
      "source": [
        "#####22222222222222222222##############\n",
        "#Training with imbalance data\n",
        "classifier = LogisticRegression()\n",
        "classifier.fit(X_train, y_train)\n",
        "print(classification_report(y_test, classifier.predict(X_test)))"
      ],
      "execution_count": null,
      "outputs": []
    },
    {
      "cell_type": "code",
      "metadata": {
        "id": "VYJY3D51dmz_"
      },
      "source": [
        "#####22222222222222222222##############\n",
        "#Training with oversampled data OSX OSY\n",
        "classifier_o = LogisticRegression()\n",
        "classifier_o.fit(OS_X, OS_Y)\n",
        "print(classification_report(y_test, classifier_o.predict(X_test)))"
      ],
      "execution_count": null,
      "outputs": []
    },
    {
      "cell_type": "code",
      "metadata": {
        "id": "cyy06OIkeBOt"
      },
      "source": [
        "#import library \n",
        "import statsmodels.api as sm\n",
        "\n",
        "#membuat model logit dengan variabel y dan X dan fit data\n",
        "logit_model=sm.Logit(OS_Y, OS_X)\n",
        "result=logit_model.fit()\n",
        "\n",
        "#mencetak hasil model \n",
        "print(result.summary2())"
      ],
      "execution_count": null,
      "outputs": []
    },
    {
      "cell_type": "code",
      "metadata": {
        "id": "MbXVqt0qqBno"
      },
      "source": [
        "#####22222222222222222222##############\n",
        "#import library smote\n",
        "from imblearn.over_sampling import SMOTE\n",
        "\n",
        "#smote mengontrol randomization algoritma dengan nilai 101\n",
        "OS = SMOTE(random_state=101)\n",
        "\n",
        "#inisiasi OS_X, OS_Y dengan x dan y train dengan SMOTE fungsi fit sample\n",
        "OS_X, OS_Y = OS.fit_resample(selected_snmptn[[\"NILAI RATA-RATA RAPOR\",\"NILAI RATA-RATA MAPEL UN\", \"PRESTASI\"]], \n",
        "                             selected_snmptn[\"STATUS SNMPTN\"])\n",
        "\n",
        "df_oversampler = pd.concat([pd.DataFrame(OS_X, columns = [\"NILAI RATA-RATA RAPOR\",\"NILAI RATA-RATA MAPEL UN\",\"PRESTASI\"]), pd.DataFrame(OS_Y, columns=['STATUS SNMPTN'])], axis=1)\n",
        "\n",
        "sns.countplot(df_oversampler['STATUS SNMPTN'])"
      ],
      "execution_count": null,
      "outputs": []
    }
  ]
}